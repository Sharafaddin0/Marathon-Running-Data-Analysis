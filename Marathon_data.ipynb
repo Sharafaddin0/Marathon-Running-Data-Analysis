{
 "cells": [
  {
   "cell_type": "code",
   "execution_count": 1,
   "id": "0664c13a-88cb-4c4c-9aff-11ec04d9f4fe",
   "metadata": {},
   "outputs": [],
   "source": [
    "# Importare il set di dati: https://www.kaggle.com/datasets/aiaiaidavid/the-big-dataset-of-ultra-marathon-running/discussion/420633"
   ]
  },
  {
   "cell_type": "code",
   "execution_count": 2,
   "id": "d69e807b-16a0-453c-9665-a2a762c176c8",
   "metadata": {},
   "outputs": [],
   "source": [
    "# Importare le seguenti librerie"
   ]
  },
  {
   "cell_type": "code",
   "execution_count": 3,
   "id": "c24c16de-a7a3-43b1-ae00-0ebd5d67e9ed",
   "metadata": {},
   "outputs": [],
   "source": [
    "import pandas as pd"
   ]
  },
  {
   "cell_type": "code",
   "execution_count": 4,
   "id": "c5975d1a-996f-45f7-b548-6dcdfe0bd658",
   "metadata": {},
   "outputs": [],
   "source": [
    "import seaborn as sns"
   ]
  },
  {
   "cell_type": "code",
   "execution_count": 5,
   "id": "c6547720-f33c-49ed-a7ed-9021f9a10fa8",
   "metadata": {},
   "outputs": [],
   "source": [
    "# Creare una nuova dataframe"
   ]
  },
  {
   "cell_type": "code",
   "execution_count": 6,
   "id": "65a1acd5-bb55-475d-8305-832c96559ef1",
   "metadata": {},
   "outputs": [
    {
     "name": "stderr",
     "output_type": "stream",
     "text": [
      "C:\\Users\\seraf\\AppData\\Local\\Temp\\ipykernel_24788\\107228863.py:1: DtypeWarning: Columns (11) have mixed types. Specify dtype option on import or set low_memory=False.\n",
      "  df = pd.read_csv('TWO_CENTURIES_OF_UM_RACES.csv')\n"
     ]
    }
   ],
   "source": [
    "df = pd.read_csv('TWO_CENTURIES_OF_UM_RACES.csv')"
   ]
  },
  {
   "cell_type": "code",
   "execution_count": 7,
   "id": "0ab95427-853d-4f8e-9647-05b0232fb01d",
   "metadata": {},
   "outputs": [],
   "source": [
    "# Mostrare 2 righe"
   ]
  },
  {
   "cell_type": "code",
   "execution_count": 8,
   "id": "585d8bb6-4365-487a-ae90-5aa79d762a06",
   "metadata": {},
   "outputs": [
    {
     "data": {
      "text/html": [
       "<div>\n",
       "<style scoped>\n",
       "    .dataframe tbody tr th:only-of-type {\n",
       "        vertical-align: middle;\n",
       "    }\n",
       "\n",
       "    .dataframe tbody tr th {\n",
       "        vertical-align: top;\n",
       "    }\n",
       "\n",
       "    .dataframe thead th {\n",
       "        text-align: right;\n",
       "    }\n",
       "</style>\n",
       "<table border=\"1\" class=\"dataframe\">\n",
       "  <thead>\n",
       "    <tr style=\"text-align: right;\">\n",
       "      <th></th>\n",
       "      <th>Year of event</th>\n",
       "      <th>Event dates</th>\n",
       "      <th>Event name</th>\n",
       "      <th>Event distance/length</th>\n",
       "      <th>Event number of finishers</th>\n",
       "      <th>Athlete performance</th>\n",
       "      <th>Athlete club</th>\n",
       "      <th>Athlete country</th>\n",
       "      <th>Athlete year of birth</th>\n",
       "      <th>Athlete gender</th>\n",
       "      <th>Athlete age category</th>\n",
       "      <th>Athlete average speed</th>\n",
       "      <th>Athlete ID</th>\n",
       "    </tr>\n",
       "  </thead>\n",
       "  <tbody>\n",
       "    <tr>\n",
       "      <th>0</th>\n",
       "      <td>2018</td>\n",
       "      <td>06.01.2018</td>\n",
       "      <td>Selva Costera (CHI)</td>\n",
       "      <td>50km</td>\n",
       "      <td>22.0</td>\n",
       "      <td>4:51:39 h</td>\n",
       "      <td>Tnfrc</td>\n",
       "      <td>CHI</td>\n",
       "      <td>1978.0</td>\n",
       "      <td>M</td>\n",
       "      <td>M35</td>\n",
       "      <td>10.286</td>\n",
       "      <td>0.0</td>\n",
       "    </tr>\n",
       "    <tr>\n",
       "      <th>1</th>\n",
       "      <td>2018</td>\n",
       "      <td>06.01.2018</td>\n",
       "      <td>Selva Costera (CHI)</td>\n",
       "      <td>50km</td>\n",
       "      <td>22.0</td>\n",
       "      <td>5:15:45 h</td>\n",
       "      <td>Roberto Echeverría</td>\n",
       "      <td>CHI</td>\n",
       "      <td>1981.0</td>\n",
       "      <td>M</td>\n",
       "      <td>M35</td>\n",
       "      <td>9.501</td>\n",
       "      <td>1.0</td>\n",
       "    </tr>\n",
       "  </tbody>\n",
       "</table>\n",
       "</div>"
      ],
      "text/plain": [
       "   Year of event Event dates           Event name Event distance/length  \\\n",
       "0           2018  06.01.2018  Selva Costera (CHI)                  50km   \n",
       "1           2018  06.01.2018  Selva Costera (CHI)                  50km   \n",
       "\n",
       "   Event number of finishers Athlete performance        Athlete club  \\\n",
       "0                       22.0           4:51:39 h               Tnfrc   \n",
       "1                       22.0           5:15:45 h  Roberto Echeverría   \n",
       "\n",
       "  Athlete country  Athlete year of birth Athlete gender Athlete age category  \\\n",
       "0             CHI                 1978.0              M                  M35   \n",
       "1             CHI                 1981.0              M                  M35   \n",
       "\n",
       "  Athlete average speed  Athlete ID  \n",
       "0                10.286         0.0  \n",
       "1                 9.501         1.0  "
      ]
     },
     "execution_count": 8,
     "metadata": {},
     "output_type": "execute_result"
    }
   ],
   "source": [
    "df.head(2)"
   ]
  },
  {
   "cell_type": "code",
   "execution_count": 9,
   "id": "270000eb-854f-4665-bbd4-d350738db5f2",
   "metadata": {},
   "outputs": [],
   "source": [
    "# Mostrare totale numero di righe e colonne"
   ]
  },
  {
   "cell_type": "code",
   "execution_count": 10,
   "id": "a93b6725-60c8-407d-b547-36e36738d09f",
   "metadata": {},
   "outputs": [
    {
     "data": {
      "text/plain": [
       "(6437923, 13)"
      ]
     },
     "execution_count": 10,
     "metadata": {},
     "output_type": "execute_result"
    }
   ],
   "source": [
    "df.shape"
   ]
  },
  {
   "cell_type": "code",
   "execution_count": 11,
   "id": "89142c85-24e4-405a-8161-460c09987330",
   "metadata": {},
   "outputs": [],
   "source": [
    "# Mostrare i tipi di ogni colonne"
   ]
  },
  {
   "cell_type": "code",
   "execution_count": 12,
   "id": "5e57cd5c-5809-400f-bc8e-ded8d841ef87",
   "metadata": {},
   "outputs": [
    {
     "data": {
      "text/plain": [
       "Year of event                  int64\n",
       "Event dates                   object\n",
       "Event name                    object\n",
       "Event distance/length         object\n",
       "Event number of finishers    float64\n",
       "Athlete performance           object\n",
       "Athlete club                  object\n",
       "Athlete country               object\n",
       "Athlete year of birth        float64\n",
       "Athlete gender                object\n",
       "Athlete age category          object\n",
       "Athlete average speed         object\n",
       "Athlete ID                   float64\n",
       "dtype: object"
      ]
     },
     "execution_count": 12,
     "metadata": {},
     "output_type": "execute_result"
    }
   ],
   "source": [
    "df.dtypes"
   ]
  },
  {
   "cell_type": "code",
   "execution_count": 13,
   "id": "96a334a5-0191-4d7c-aaf4-8f96e6eada8d",
   "metadata": {},
   "outputs": [],
   "source": [
    "# ripulire i dati\n",
    "# voglio solo gare statunitensi, 50 km o 50 miglia (mostra 5 righe)"
   ]
  },
  {
   "cell_type": "code",
   "execution_count": 14,
   "id": "bc957503-5fcd-46bb-8d37-9e95599c21cf",
   "metadata": {},
   "outputs": [
    {
     "data": {
      "text/html": [
       "<div>\n",
       "<style scoped>\n",
       "    .dataframe tbody tr th:only-of-type {\n",
       "        vertical-align: middle;\n",
       "    }\n",
       "\n",
       "    .dataframe tbody tr th {\n",
       "        vertical-align: top;\n",
       "    }\n",
       "\n",
       "    .dataframe thead th {\n",
       "        text-align: right;\n",
       "    }\n",
       "</style>\n",
       "<table border=\"1\" class=\"dataframe\">\n",
       "  <thead>\n",
       "    <tr style=\"text-align: right;\">\n",
       "      <th></th>\n",
       "      <th>Year of event</th>\n",
       "      <th>Event dates</th>\n",
       "      <th>Event name</th>\n",
       "      <th>Event distance/length</th>\n",
       "      <th>Event number of finishers</th>\n",
       "      <th>Athlete performance</th>\n",
       "      <th>Athlete club</th>\n",
       "      <th>Athlete country</th>\n",
       "      <th>Athlete year of birth</th>\n",
       "      <th>Athlete gender</th>\n",
       "      <th>Athlete age category</th>\n",
       "      <th>Athlete average speed</th>\n",
       "      <th>Athlete ID</th>\n",
       "    </tr>\n",
       "  </thead>\n",
       "  <tbody>\n",
       "    <tr>\n",
       "      <th>0</th>\n",
       "      <td>2018</td>\n",
       "      <td>06.01.2018</td>\n",
       "      <td>Selva Costera (CHI)</td>\n",
       "      <td>50km</td>\n",
       "      <td>22.0</td>\n",
       "      <td>4:51:39 h</td>\n",
       "      <td>Tnfrc</td>\n",
       "      <td>CHI</td>\n",
       "      <td>1978.0</td>\n",
       "      <td>M</td>\n",
       "      <td>M35</td>\n",
       "      <td>10.286</td>\n",
       "      <td>0.0</td>\n",
       "    </tr>\n",
       "    <tr>\n",
       "      <th>1</th>\n",
       "      <td>2018</td>\n",
       "      <td>06.01.2018</td>\n",
       "      <td>Selva Costera (CHI)</td>\n",
       "      <td>50km</td>\n",
       "      <td>22.0</td>\n",
       "      <td>5:15:45 h</td>\n",
       "      <td>Roberto Echeverría</td>\n",
       "      <td>CHI</td>\n",
       "      <td>1981.0</td>\n",
       "      <td>M</td>\n",
       "      <td>M35</td>\n",
       "      <td>9.501</td>\n",
       "      <td>1.0</td>\n",
       "    </tr>\n",
       "    <tr>\n",
       "      <th>2</th>\n",
       "      <td>2018</td>\n",
       "      <td>06.01.2018</td>\n",
       "      <td>Selva Costera (CHI)</td>\n",
       "      <td>50km</td>\n",
       "      <td>22.0</td>\n",
       "      <td>5:16:44 h</td>\n",
       "      <td>Puro Trail Osorno</td>\n",
       "      <td>CHI</td>\n",
       "      <td>1987.0</td>\n",
       "      <td>M</td>\n",
       "      <td>M23</td>\n",
       "      <td>9.472</td>\n",
       "      <td>2.0</td>\n",
       "    </tr>\n",
       "    <tr>\n",
       "      <th>3</th>\n",
       "      <td>2018</td>\n",
       "      <td>06.01.2018</td>\n",
       "      <td>Selva Costera (CHI)</td>\n",
       "      <td>50km</td>\n",
       "      <td>22.0</td>\n",
       "      <td>5:34:13 h</td>\n",
       "      <td>Columbia</td>\n",
       "      <td>ARG</td>\n",
       "      <td>1976.0</td>\n",
       "      <td>M</td>\n",
       "      <td>M40</td>\n",
       "      <td>8.976</td>\n",
       "      <td>3.0</td>\n",
       "    </tr>\n",
       "    <tr>\n",
       "      <th>4</th>\n",
       "      <td>2018</td>\n",
       "      <td>06.01.2018</td>\n",
       "      <td>Selva Costera (CHI)</td>\n",
       "      <td>50km</td>\n",
       "      <td>22.0</td>\n",
       "      <td>5:54:14 h</td>\n",
       "      <td>Baguales Trail</td>\n",
       "      <td>CHI</td>\n",
       "      <td>1992.0</td>\n",
       "      <td>M</td>\n",
       "      <td>M23</td>\n",
       "      <td>8.469</td>\n",
       "      <td>4.0</td>\n",
       "    </tr>\n",
       "  </tbody>\n",
       "</table>\n",
       "</div>"
      ],
      "text/plain": [
       "   Year of event Event dates           Event name Event distance/length  \\\n",
       "0           2018  06.01.2018  Selva Costera (CHI)                  50km   \n",
       "1           2018  06.01.2018  Selva Costera (CHI)                  50km   \n",
       "2           2018  06.01.2018  Selva Costera (CHI)                  50km   \n",
       "3           2018  06.01.2018  Selva Costera (CHI)                  50km   \n",
       "4           2018  06.01.2018  Selva Costera (CHI)                  50km   \n",
       "\n",
       "   Event number of finishers Athlete performance        Athlete club  \\\n",
       "0                       22.0           4:51:39 h               Tnfrc   \n",
       "1                       22.0           5:15:45 h  Roberto Echeverría   \n",
       "2                       22.0           5:16:44 h   Puro Trail Osorno   \n",
       "3                       22.0           5:34:13 h            Columbia   \n",
       "4                       22.0           5:54:14 h      Baguales Trail   \n",
       "\n",
       "  Athlete country  Athlete year of birth Athlete gender Athlete age category  \\\n",
       "0             CHI                 1978.0              M                  M35   \n",
       "1             CHI                 1981.0              M                  M35   \n",
       "2             CHI                 1987.0              M                  M23   \n",
       "3             ARG                 1976.0              M                  M40   \n",
       "4             CHI                 1992.0              M                  M23   \n",
       "\n",
       "  Athlete average speed  Athlete ID  \n",
       "0                10.286         0.0  \n",
       "1                 9.501         1.0  \n",
       "2                 9.472         2.0  \n",
       "3                 8.976         3.0  \n",
       "4                 8.469         4.0  "
      ]
     },
     "execution_count": 14,
     "metadata": {},
     "output_type": "execute_result"
    }
   ],
   "source": [
    "df[df['Event distance/length'].isin(['50km', '50mi'])].head(5)"
   ]
  },
  {
   "cell_type": "code",
   "execution_count": 15,
   "id": "ddd24004-b23b-4b8a-aeca-ecd8b3f431f6",
   "metadata": {},
   "outputs": [],
   "source": [
    "# aggiungere cosi come gli anni dell'evento del 2020"
   ]
  },
  {
   "cell_type": "code",
   "execution_count": 16,
   "id": "f876e606-22de-4dd0-a245-136eebe3cab8",
   "metadata": {},
   "outputs": [
    {
     "data": {
      "text/html": [
       "<div>\n",
       "<style scoped>\n",
       "    .dataframe tbody tr th:only-of-type {\n",
       "        vertical-align: middle;\n",
       "    }\n",
       "\n",
       "    .dataframe tbody tr th {\n",
       "        vertical-align: top;\n",
       "    }\n",
       "\n",
       "    .dataframe thead th {\n",
       "        text-align: right;\n",
       "    }\n",
       "</style>\n",
       "<table border=\"1\" class=\"dataframe\">\n",
       "  <thead>\n",
       "    <tr style=\"text-align: right;\">\n",
       "      <th></th>\n",
       "      <th>Year of event</th>\n",
       "      <th>Event dates</th>\n",
       "      <th>Event name</th>\n",
       "      <th>Event distance/length</th>\n",
       "      <th>Event number of finishers</th>\n",
       "      <th>Athlete performance</th>\n",
       "      <th>Athlete club</th>\n",
       "      <th>Athlete country</th>\n",
       "      <th>Athlete year of birth</th>\n",
       "      <th>Athlete gender</th>\n",
       "      <th>Athlete age category</th>\n",
       "      <th>Athlete average speed</th>\n",
       "      <th>Athlete ID</th>\n",
       "    </tr>\n",
       "  </thead>\n",
       "  <tbody>\n",
       "    <tr>\n",
       "      <th>2538571</th>\n",
       "      <td>2020</td>\n",
       "      <td>07.-09.02.2020</td>\n",
       "      <td>Taipei 48hr Ultra Marathon - 50mi (TPE)</td>\n",
       "      <td>50mi</td>\n",
       "      <td>38.0</td>\n",
       "      <td>7:34:19 h</td>\n",
       "      <td>日本隊</td>\n",
       "      <td>JPN</td>\n",
       "      <td>1965.0</td>\n",
       "      <td>M</td>\n",
       "      <td>M50</td>\n",
       "      <td>10.627</td>\n",
       "      <td>53107.0</td>\n",
       "    </tr>\n",
       "    <tr>\n",
       "      <th>2538572</th>\n",
       "      <td>2020</td>\n",
       "      <td>07.-09.02.2020</td>\n",
       "      <td>Taipei 48hr Ultra Marathon - 50mi (TPE)</td>\n",
       "      <td>50mi</td>\n",
       "      <td>38.0</td>\n",
       "      <td>7:43:50 h</td>\n",
       "      <td>NaN</td>\n",
       "      <td>AUS</td>\n",
       "      <td>1974.0</td>\n",
       "      <td>M</td>\n",
       "      <td>M45</td>\n",
       "      <td>10.409</td>\n",
       "      <td>8785.0</td>\n",
       "    </tr>\n",
       "    <tr>\n",
       "      <th>2538573</th>\n",
       "      <td>2020</td>\n",
       "      <td>07.-09.02.2020</td>\n",
       "      <td>Taipei 48hr Ultra Marathon - 50mi (TPE)</td>\n",
       "      <td>50mi</td>\n",
       "      <td>38.0</td>\n",
       "      <td>8:04:40 h</td>\n",
       "      <td>NaN</td>\n",
       "      <td>TPE</td>\n",
       "      <td>1976.0</td>\n",
       "      <td>M</td>\n",
       "      <td>M40</td>\n",
       "      <td>9.962</td>\n",
       "      <td>4502.0</td>\n",
       "    </tr>\n",
       "    <tr>\n",
       "      <th>2538574</th>\n",
       "      <td>2020</td>\n",
       "      <td>07.-09.02.2020</td>\n",
       "      <td>Taipei 48hr Ultra Marathon - 50mi (TPE)</td>\n",
       "      <td>50mi</td>\n",
       "      <td>38.0</td>\n",
       "      <td>8:30:49 h</td>\n",
       "      <td>台灣大腳ㄚ長跑協會</td>\n",
       "      <td>TPE</td>\n",
       "      <td>1969.0</td>\n",
       "      <td>F</td>\n",
       "      <td>W50</td>\n",
       "      <td>9.452</td>\n",
       "      <td>63964.0</td>\n",
       "    </tr>\n",
       "    <tr>\n",
       "      <th>2538575</th>\n",
       "      <td>2020</td>\n",
       "      <td>07.-09.02.2020</td>\n",
       "      <td>Taipei 48hr Ultra Marathon - 50mi (TPE)</td>\n",
       "      <td>50mi</td>\n",
       "      <td>38.0</td>\n",
       "      <td>8:34:47 h</td>\n",
       "      <td>NaN</td>\n",
       "      <td>TPE</td>\n",
       "      <td>1964.0</td>\n",
       "      <td>M</td>\n",
       "      <td>M55</td>\n",
       "      <td>9.379</td>\n",
       "      <td>4485.0</td>\n",
       "    </tr>\n",
       "  </tbody>\n",
       "</table>\n",
       "</div>"
      ],
      "text/plain": [
       "         Year of event     Event dates  \\\n",
       "2538571           2020  07.-09.02.2020   \n",
       "2538572           2020  07.-09.02.2020   \n",
       "2538573           2020  07.-09.02.2020   \n",
       "2538574           2020  07.-09.02.2020   \n",
       "2538575           2020  07.-09.02.2020   \n",
       "\n",
       "                                      Event name Event distance/length  \\\n",
       "2538571  Taipei 48hr Ultra Marathon - 50mi (TPE)                  50mi   \n",
       "2538572  Taipei 48hr Ultra Marathon - 50mi (TPE)                  50mi   \n",
       "2538573  Taipei 48hr Ultra Marathon - 50mi (TPE)                  50mi   \n",
       "2538574  Taipei 48hr Ultra Marathon - 50mi (TPE)                  50mi   \n",
       "2538575  Taipei 48hr Ultra Marathon - 50mi (TPE)                  50mi   \n",
       "\n",
       "         Event number of finishers Athlete performance Athlete club  \\\n",
       "2538571                       38.0           7:34:19 h          日本隊   \n",
       "2538572                       38.0           7:43:50 h          NaN   \n",
       "2538573                       38.0           8:04:40 h          NaN   \n",
       "2538574                       38.0           8:30:49 h    台灣大腳ㄚ長跑協會   \n",
       "2538575                       38.0           8:34:47 h          NaN   \n",
       "\n",
       "        Athlete country  Athlete year of birth Athlete gender  \\\n",
       "2538571             JPN                 1965.0              M   \n",
       "2538572             AUS                 1974.0              M   \n",
       "2538573             TPE                 1976.0              M   \n",
       "2538574             TPE                 1969.0              F   \n",
       "2538575             TPE                 1964.0              M   \n",
       "\n",
       "        Athlete age category Athlete average speed  Athlete ID  \n",
       "2538571                  M50                10.627     53107.0  \n",
       "2538572                  M45                10.409      8785.0  \n",
       "2538573                  M40                 9.962      4502.0  \n",
       "2538574                  W50                 9.452     63964.0  \n",
       "2538575                  M55                 9.379      4485.0  "
      ]
     },
     "execution_count": 16,
     "metadata": {},
     "output_type": "execute_result"
    }
   ],
   "source": [
    "df[(df['Event distance/length'].isin(['50km', '50mi'])) & (df['Year of event'] == 2020)].head(5)"
   ]
  },
  {
   "cell_type": "code",
   "execution_count": 17,
   "id": "e6c9b9c0-2073-458d-a6b1-acada9a3db8f",
   "metadata": {},
   "outputs": [],
   "source": [
    "# scopri gli eventi negli Stati Uniti"
   ]
  },
  {
   "cell_type": "code",
   "execution_count": 18,
   "id": "9b708d55-f9f9-4a5b-9c3c-d5b0614a55f1",
   "metadata": {},
   "outputs": [
    {
     "data": {
      "text/plain": [
       "51923      USA\n",
       "51924      USA\n",
       "51925      USA\n",
       "51926      USA\n",
       "51927      USA\n",
       "          ... \n",
       "6417091    USA\n",
       "6417092    USA\n",
       "6417093    USA\n",
       "6417094    USA\n",
       "6417095    USA\n",
       "Name: Event name, Length: 338, dtype: object"
      ]
     },
     "execution_count": 18,
     "metadata": {},
     "output_type": "execute_result"
    }
   ],
   "source": [
    "df[df['Event name'] == 'Everglades 50 Mile Ultra Run (USA)']['Event name'].str.split('(').str.get(1).str.split(')').str.get(0)"
   ]
  },
  {
   "cell_type": "code",
   "execution_count": 19,
   "id": "f96482d2-efb4-4896-b730-6fceb90ecc1c",
   "metadata": {},
   "outputs": [],
   "source": [
    "# rimuovere sezione Everglades 50 Miles Ultra Run"
   ]
  },
  {
   "cell_type": "code",
   "execution_count": 20,
   "id": "5719a51a-ea69-4603-aa14-fd84fc2f20bb",
   "metadata": {
    "scrolled": true
   },
   "outputs": [
    {
     "data": {
      "text/html": [
       "<div>\n",
       "<style scoped>\n",
       "    .dataframe tbody tr th:only-of-type {\n",
       "        vertical-align: middle;\n",
       "    }\n",
       "\n",
       "    .dataframe tbody tr th {\n",
       "        vertical-align: top;\n",
       "    }\n",
       "\n",
       "    .dataframe thead th {\n",
       "        text-align: right;\n",
       "    }\n",
       "</style>\n",
       "<table border=\"1\" class=\"dataframe\">\n",
       "  <thead>\n",
       "    <tr style=\"text-align: right;\">\n",
       "      <th></th>\n",
       "      <th>Year of event</th>\n",
       "      <th>Event dates</th>\n",
       "      <th>Event name</th>\n",
       "      <th>Event distance/length</th>\n",
       "      <th>Event number of finishers</th>\n",
       "      <th>Athlete performance</th>\n",
       "      <th>Athlete club</th>\n",
       "      <th>Athlete country</th>\n",
       "      <th>Athlete year of birth</th>\n",
       "      <th>Athlete gender</th>\n",
       "      <th>Athlete age category</th>\n",
       "      <th>Athlete average speed</th>\n",
       "      <th>Athlete ID</th>\n",
       "    </tr>\n",
       "  </thead>\n",
       "  <tbody>\n",
       "    <tr>\n",
       "      <th>55</th>\n",
       "      <td>2018</td>\n",
       "      <td>06.01.2018</td>\n",
       "      <td>Yankee Springs 50 Mile Winter Challenge (USA)</td>\n",
       "      <td>50mi</td>\n",
       "      <td>9.0</td>\n",
       "      <td>9:53:05 h</td>\n",
       "      <td>*Middleville, MI</td>\n",
       "      <td>USA</td>\n",
       "      <td>1983.0</td>\n",
       "      <td>M</td>\n",
       "      <td>M23</td>\n",
       "      <td>8.141</td>\n",
       "      <td>55.0</td>\n",
       "    </tr>\n",
       "    <tr>\n",
       "      <th>56</th>\n",
       "      <td>2018</td>\n",
       "      <td>06.01.2018</td>\n",
       "      <td>Yankee Springs 50 Mile Winter Challenge (USA)</td>\n",
       "      <td>50mi</td>\n",
       "      <td>9.0</td>\n",
       "      <td>11:09:35 h</td>\n",
       "      <td>*Waterloo, ON</td>\n",
       "      <td>CAN</td>\n",
       "      <td>1977.0</td>\n",
       "      <td>F</td>\n",
       "      <td>W40</td>\n",
       "      <td>7.211</td>\n",
       "      <td>56.0</td>\n",
       "    </tr>\n",
       "  </tbody>\n",
       "</table>\n",
       "</div>"
      ],
      "text/plain": [
       "    Year of event Event dates                                     Event name  \\\n",
       "55           2018  06.01.2018  Yankee Springs 50 Mile Winter Challenge (USA)   \n",
       "56           2018  06.01.2018  Yankee Springs 50 Mile Winter Challenge (USA)   \n",
       "\n",
       "   Event distance/length  Event number of finishers Athlete performance  \\\n",
       "55                  50mi                        9.0           9:53:05 h   \n",
       "56                  50mi                        9.0          11:09:35 h   \n",
       "\n",
       "        Athlete club Athlete country  Athlete year of birth Athlete gender  \\\n",
       "55  *Middleville, MI             USA                 1983.0              M   \n",
       "56     *Waterloo, ON             CAN                 1977.0              F   \n",
       "\n",
       "   Athlete age category Athlete average speed  Athlete ID  \n",
       "55                  M23                 8.141        55.0  \n",
       "56                  W40                 7.211        56.0  "
      ]
     },
     "execution_count": 20,
     "metadata": {},
     "output_type": "execute_result"
    }
   ],
   "source": [
    "df[df['Event name'].str.split('(').str.get(1).str.split(')').str.get(0) == 'USA']"
   ]
  },
  {
   "cell_type": "code",
   "execution_count": null,
   "id": "0c14683d-37d0-4f5d-8626-ab00cc509991",
   "metadata": {},
   "outputs": [],
   "source": [
    "# combina tutti i filtri e rietichetta il dataframe"
   ]
  },
  {
   "cell_type": "code",
   "execution_count": 22,
   "id": "517975c2-90ea-49e0-9163-29aab558c620",
   "metadata": {
    "editable": true,
    "slideshow": {
     "slide_type": ""
    },
    "tags": []
   },
   "outputs": [],
   "source": [
    "df2 = df[df['Event distance/length'].isin(['50km', '50mi']) & (df['Year of event'] == 2020) & (df['Event name'].str.split('(').str.get(1).str.split(')').str.get(0) == 'USA')]"
   ]
  },
  {
   "cell_type": "code",
   "execution_count": 24,
   "id": "045c4ed7-8b04-4b0a-8809-7e0be30a2512",
   "metadata": {},
   "outputs": [],
   "source": [
    "# rimuovere USA dal nome dell'eventi"
   ]
  },
  {
   "cell_type": "code",
   "execution_count": 25,
   "id": "8771c953-0cc0-4c98-ac2a-fdc48d0e022e",
   "metadata": {},
   "outputs": [
    {
     "name": "stderr",
     "output_type": "stream",
     "text": [
      "C:\\Users\\seraf\\AppData\\Local\\Temp\\ipykernel_24788\\3473829760.py:1: SettingWithCopyWarning: \n",
      "A value is trying to be set on a copy of a slice from a DataFrame.\n",
      "Try using .loc[row_indexer,col_indexer] = value instead\n",
      "\n",
      "See the caveats in the documentation: https://pandas.pydata.org/pandas-docs/stable/user_guide/indexing.html#returning-a-view-versus-a-copy\n",
      "  df2['Event name'] = df2['Event name'].str.split('(').str.get(0)\n"
     ]
    }
   ],
   "source": [
    "df2['Event name'] = df2['Event name'].str.split('(').str.get(0) "
   ]
  },
  {
   "cell_type": "code",
   "execution_count": 32,
   "id": "7bd96048-be4c-430a-b910-d1c8791a448a",
   "metadata": {},
   "outputs": [],
   "source": [
    "# aggiungere la colonna 'athlete_age'"
   ]
  },
  {
   "cell_type": "code",
   "execution_count": 33,
   "id": "013bf300-f1e5-42aa-80ad-daeef2ea1b74",
   "metadata": {},
   "outputs": [
    {
     "name": "stderr",
     "output_type": "stream",
     "text": [
      "C:\\Users\\seraf\\AppData\\Local\\Temp\\ipykernel_24788\\3897931444.py:1: SettingWithCopyWarning: \n",
      "A value is trying to be set on a copy of a slice from a DataFrame.\n",
      "Try using .loc[row_indexer,col_indexer] = value instead\n",
      "\n",
      "See the caveats in the documentation: https://pandas.pydata.org/pandas-docs/stable/user_guide/indexing.html#returning-a-view-versus-a-copy\n",
      "  df2['athlete_age'] = 2020 - df2['Athlete year of birth']\n"
     ]
    }
   ],
   "source": [
    "df2['athlete_age'] = 2020 - df2['Athlete year of birth']"
   ]
  },
  {
   "cell_type": "code",
   "execution_count": 36,
   "id": "39170ffc-982b-49fe-b167-748d109875b1",
   "metadata": {},
   "outputs": [],
   "source": [
    "# rimuovere h dal colonna 'Age performance'"
   ]
  },
  {
   "cell_type": "code",
   "execution_count": 43,
   "id": "57853f36-e891-45f6-872b-e6efba604673",
   "metadata": {},
   "outputs": [
    {
     "name": "stderr",
     "output_type": "stream",
     "text": [
      "C:\\Users\\seraf\\AppData\\Local\\Temp\\ipykernel_24788\\1016239562.py:1: SettingWithCopyWarning: \n",
      "A value is trying to be set on a copy of a slice from a DataFrame.\n",
      "Try using .loc[row_indexer,col_indexer] = value instead\n",
      "\n",
      "See the caveats in the documentation: https://pandas.pydata.org/pandas-docs/stable/user_guide/indexing.html#returning-a-view-versus-a-copy\n",
      "  df2['Athlete performance'] = df2['Athlete performance'].str.replace('h', ' ', regex = False)\n"
     ]
    }
   ],
   "source": [
    "df2['Athlete performance'] = df2['Athlete performance'].str.replace('h', ' ', regex = False)"
   ]
  },
  {
   "cell_type": "code",
   "execution_count": 42,
   "id": "7cd6a383-74f9-4df4-b32e-3cffe9ef8fef",
   "metadata": {},
   "outputs": [],
   "source": [
    "# rilasciare colonne: Athlete club, Athlete year of birth, Athlete age category, Athlete country"
   ]
  },
  {
   "cell_type": "code",
   "execution_count": 45,
   "id": "9140f680-2f64-4929-aaa4-54f219842acf",
   "metadata": {},
   "outputs": [],
   "source": [
    "df2 = df2.drop(columns = ['Athlete club', 'Athlete country', 'Athlete year of birth', 'Athlete age category'])"
   ]
  },
  {
   "cell_type": "code",
   "execution_count": 46,
   "id": "835662c2-fd87-44e0-94ec-686becbfc11a",
   "metadata": {},
   "outputs": [
    {
     "data": {
      "text/html": [
       "<div>\n",
       "<style scoped>\n",
       "    .dataframe tbody tr th:only-of-type {\n",
       "        vertical-align: middle;\n",
       "    }\n",
       "\n",
       "    .dataframe tbody tr th {\n",
       "        vertical-align: top;\n",
       "    }\n",
       "\n",
       "    .dataframe thead th {\n",
       "        text-align: right;\n",
       "    }\n",
       "</style>\n",
       "<table border=\"1\" class=\"dataframe\">\n",
       "  <thead>\n",
       "    <tr style=\"text-align: right;\">\n",
       "      <th></th>\n",
       "      <th>Year of event</th>\n",
       "      <th>Event dates</th>\n",
       "      <th>Event name</th>\n",
       "      <th>Event distance/length</th>\n",
       "      <th>Event number of finishers</th>\n",
       "      <th>Athlete performance</th>\n",
       "      <th>Athlete gender</th>\n",
       "      <th>Athlete average speed</th>\n",
       "      <th>Athlete ID</th>\n",
       "      <th>athlete_age</th>\n",
       "    </tr>\n",
       "  </thead>\n",
       "  <tbody>\n",
       "    <tr>\n",
       "      <th>2539945</th>\n",
       "      <td>2020</td>\n",
       "      <td>02.02.2020</td>\n",
       "      <td>West Seattle Beach Run - Winter Edition</td>\n",
       "      <td>50km</td>\n",
       "      <td>20.0</td>\n",
       "      <td>3:17:55</td>\n",
       "      <td>M</td>\n",
       "      <td>15.158</td>\n",
       "      <td>71287.0</td>\n",
       "      <td>29.0</td>\n",
       "    </tr>\n",
       "    <tr>\n",
       "      <th>2539946</th>\n",
       "      <td>2020</td>\n",
       "      <td>02.02.2020</td>\n",
       "      <td>West Seattle Beach Run - Winter Edition</td>\n",
       "      <td>50km</td>\n",
       "      <td>20.0</td>\n",
       "      <td>4:02:32</td>\n",
       "      <td>M</td>\n",
       "      <td>12.369</td>\n",
       "      <td>629508.0</td>\n",
       "      <td>39.0</td>\n",
       "    </tr>\n",
       "    <tr>\n",
       "      <th>2539947</th>\n",
       "      <td>2020</td>\n",
       "      <td>02.02.2020</td>\n",
       "      <td>West Seattle Beach Run - Winter Edition</td>\n",
       "      <td>50km</td>\n",
       "      <td>20.0</td>\n",
       "      <td>4:07:57</td>\n",
       "      <td>M</td>\n",
       "      <td>12.099</td>\n",
       "      <td>64838.0</td>\n",
       "      <td>21.0</td>\n",
       "    </tr>\n",
       "    <tr>\n",
       "      <th>2539948</th>\n",
       "      <td>2020</td>\n",
       "      <td>02.02.2020</td>\n",
       "      <td>West Seattle Beach Run - Winter Edition</td>\n",
       "      <td>50km</td>\n",
       "      <td>20.0</td>\n",
       "      <td>4:22:02</td>\n",
       "      <td>M</td>\n",
       "      <td>11.449</td>\n",
       "      <td>704450.0</td>\n",
       "      <td>37.0</td>\n",
       "    </tr>\n",
       "    <tr>\n",
       "      <th>2539949</th>\n",
       "      <td>2020</td>\n",
       "      <td>02.02.2020</td>\n",
       "      <td>West Seattle Beach Run - Winter Edition</td>\n",
       "      <td>50km</td>\n",
       "      <td>20.0</td>\n",
       "      <td>4:27:34</td>\n",
       "      <td>M</td>\n",
       "      <td>11.212</td>\n",
       "      <td>810281.0</td>\n",
       "      <td>43.0</td>\n",
       "    </tr>\n",
       "  </tbody>\n",
       "</table>\n",
       "</div>"
      ],
      "text/plain": [
       "         Year of event Event dates                                Event name  \\\n",
       "2539945           2020  02.02.2020  West Seattle Beach Run - Winter Edition    \n",
       "2539946           2020  02.02.2020  West Seattle Beach Run - Winter Edition    \n",
       "2539947           2020  02.02.2020  West Seattle Beach Run - Winter Edition    \n",
       "2539948           2020  02.02.2020  West Seattle Beach Run - Winter Edition    \n",
       "2539949           2020  02.02.2020  West Seattle Beach Run - Winter Edition    \n",
       "\n",
       "        Event distance/length  Event number of finishers Athlete performance  \\\n",
       "2539945                  50km                       20.0           3:17:55     \n",
       "2539946                  50km                       20.0           4:02:32     \n",
       "2539947                  50km                       20.0           4:07:57     \n",
       "2539948                  50km                       20.0           4:22:02     \n",
       "2539949                  50km                       20.0           4:27:34     \n",
       "\n",
       "        Athlete gender Athlete average speed  Athlete ID  athlete_age  \n",
       "2539945              M                15.158     71287.0         29.0  \n",
       "2539946              M                12.369    629508.0         39.0  \n",
       "2539947              M                12.099     64838.0         21.0  \n",
       "2539948              M                11.449    704450.0         37.0  \n",
       "2539949              M                11.212    810281.0         43.0  "
      ]
     },
     "execution_count": 46,
     "metadata": {},
     "output_type": "execute_result"
    }
   ],
   "source": [
    "df2.head()"
   ]
  },
  {
   "cell_type": "code",
   "execution_count": 49,
   "id": "bcd064e4-6320-49a0-8508-be5b9322246d",
   "metadata": {
    "editable": true,
    "slideshow": {
     "slide_type": ""
    },
    "tags": []
   },
   "outputs": [],
   "source": [
    "# ripulire i valori nulla\n",
    "# controlla le colonne per valori nulle"
   ]
  },
  {
   "cell_type": "code",
   "execution_count": 51,
   "id": "842134fa-3e1a-45df-bad1-a75f0f74cd2d",
   "metadata": {},
   "outputs": [
    {
     "data": {
      "text/plain": [
       "Year of event                False\n",
       "Event dates                  False\n",
       "Event name                   False\n",
       "Event distance/length        False\n",
       "Event number of finishers    False\n",
       "Athlete performance          False\n",
       "Athlete gender               False\n",
       "Athlete average speed        False\n",
       "Athlete ID                   False\n",
       "athlete_age                   True\n",
       "dtype: bool"
      ]
     },
     "execution_count": 51,
     "metadata": {},
     "output_type": "execute_result"
    }
   ],
   "source": [
    "df2.isnull().any() # se appare True in qualsiasi colonna significa che questa colonna contiene valori nulli"
   ]
  },
  {
   "cell_type": "code",
   "execution_count": 53,
   "id": "1d945e4f-0571-478a-bf32-0f421f11239c",
   "metadata": {},
   "outputs": [],
   "source": [
    "# trovvare le somma dei valori nulle"
   ]
  },
  {
   "cell_type": "code",
   "execution_count": 54,
   "id": "3632866f-2098-4433-948b-b2e464a16a1a",
   "metadata": {},
   "outputs": [
    {
     "data": {
      "text/plain": [
       "Year of event                  0\n",
       "Event dates                    0\n",
       "Event name                     0\n",
       "Event distance/length          0\n",
       "Event number of finishers      0\n",
       "Athlete performance            0\n",
       "Athlete gender                 0\n",
       "Athlete average speed          0\n",
       "Athlete ID                     0\n",
       "athlete_age                  233\n",
       "dtype: int64"
      ]
     },
     "execution_count": 54,
     "metadata": {},
     "output_type": "execute_result"
    }
   ],
   "source": [
    "df2.isnull().sum()"
   ]
  },
  {
   "cell_type": "code",
   "execution_count": 56,
   "id": "0c5e53d7-8f2d-4fce-ad8a-5cd9d1f30bfd",
   "metadata": {},
   "outputs": [],
   "source": [
    "# trovare le righe con valori nulle\n",
    "# pulizia dei valori nulli da colonna 'athlete_age'"
   ]
  },
  {
   "cell_type": "code",
   "execution_count": 60,
   "id": "92d1eb57-a834-4969-8e8c-6658c14ed45c",
   "metadata": {
    "collapsed": true,
    "editable": true,
    "jupyter": {
     "outputs_hidden": true
    },
    "scrolled": true,
    "slideshow": {
     "slide_type": ""
    },
    "tags": []
   },
   "outputs": [
    {
     "data": {
      "text/html": [
       "<div>\n",
       "<style scoped>\n",
       "    .dataframe tbody tr th:only-of-type {\n",
       "        vertical-align: middle;\n",
       "    }\n",
       "\n",
       "    .dataframe tbody tr th {\n",
       "        vertical-align: top;\n",
       "    }\n",
       "\n",
       "    .dataframe thead th {\n",
       "        text-align: right;\n",
       "    }\n",
       "</style>\n",
       "<table border=\"1\" class=\"dataframe\">\n",
       "  <thead>\n",
       "    <tr style=\"text-align: right;\">\n",
       "      <th></th>\n",
       "      <th>Year of event</th>\n",
       "      <th>Event dates</th>\n",
       "      <th>Event name</th>\n",
       "      <th>Event distance/length</th>\n",
       "      <th>Event number of finishers</th>\n",
       "      <th>Athlete performance</th>\n",
       "      <th>Athlete gender</th>\n",
       "      <th>Athlete average speed</th>\n",
       "      <th>Athlete ID</th>\n",
       "      <th>athlete_age</th>\n",
       "    </tr>\n",
       "  </thead>\n",
       "  <tbody>\n",
       "  </tbody>\n",
       "</table>\n",
       "</div>"
      ],
      "text/plain": [
       "Empty DataFrame\n",
       "Columns: [Year of event, Event dates, Event name, Event distance/length, Event number of finishers, Athlete performance, Athlete gender, Athlete average speed, Athlete ID, athlete_age]\n",
       "Index: []"
      ]
     },
     "execution_count": 60,
     "metadata": {},
     "output_type": "execute_result"
    }
   ],
   "source": [
    "df2[df2['athlete_age'].isnull() == 1]"
   ]
  },
  {
   "cell_type": "code",
   "execution_count": 61,
   "id": "88286309-27c2-48ac-8575-8bfa9b44185b",
   "metadata": {
    "editable": true,
    "slideshow": {
     "slide_type": ""
    },
    "tags": []
   },
   "outputs": [],
   "source": [
    "df2 = df2.dropna() # hanno pulito"
   ]
  },
  {
   "cell_type": "code",
   "execution_count": 63,
   "id": "d82e285b-31f7-4008-b421-5a1035e196b2",
   "metadata": {},
   "outputs": [],
   "source": [
    "# ripulire i valori duplicati\n",
    "# controllare le colonne prima"
   ]
  },
  {
   "cell_type": "code",
   "execution_count": 65,
   "id": "496ef6f3-827c-41a3-92c4-6adf6200d2d3",
   "metadata": {},
   "outputs": [
    {
     "data": {
      "text/plain": [
       "2539945    False\n",
       "2539946    False\n",
       "2539947    False\n",
       "2539948    False\n",
       "2539949    False\n",
       "           ...  \n",
       "2760957    False\n",
       "2760958    False\n",
       "2760959    False\n",
       "2760960    False\n",
       "2760961    False\n",
       "Length: 25857, dtype: bool"
      ]
     },
     "execution_count": 65,
     "metadata": {},
     "output_type": "execute_result"
    }
   ],
   "source": [
    "df2.duplicated()"
   ]
  },
  {
   "cell_type": "code",
   "execution_count": 67,
   "id": "5b02282a-4f45-468d-8ad8-e1ebea65af63",
   "metadata": {},
   "outputs": [
    {
     "data": {
      "text/plain": [
       "np.int64(0)"
      ]
     },
     "execution_count": 67,
     "metadata": {},
     "output_type": "execute_result"
    }
   ],
   "source": [
    "df2.duplicated().sum() # le somma di valori duplicati"
   ]
  },
  {
   "cell_type": "code",
   "execution_count": 69,
   "id": "84893194-2118-4ab0-8fd2-04b55b45b9c9",
   "metadata": {
    "editable": true,
    "slideshow": {
     "slide_type": ""
    },
    "tags": []
   },
   "outputs": [
    {
     "data": {
      "text/html": [
       "<div>\n",
       "<style scoped>\n",
       "    .dataframe tbody tr th:only-of-type {\n",
       "        vertical-align: middle;\n",
       "    }\n",
       "\n",
       "    .dataframe tbody tr th {\n",
       "        vertical-align: top;\n",
       "    }\n",
       "\n",
       "    .dataframe thead th {\n",
       "        text-align: right;\n",
       "    }\n",
       "</style>\n",
       "<table border=\"1\" class=\"dataframe\">\n",
       "  <thead>\n",
       "    <tr style=\"text-align: right;\">\n",
       "      <th></th>\n",
       "      <th>Year of event</th>\n",
       "      <th>Event dates</th>\n",
       "      <th>Event name</th>\n",
       "      <th>Event distance/length</th>\n",
       "      <th>Event number of finishers</th>\n",
       "      <th>Athlete performance</th>\n",
       "      <th>Athlete gender</th>\n",
       "      <th>Athlete average speed</th>\n",
       "      <th>Athlete ID</th>\n",
       "      <th>athlete_age</th>\n",
       "    </tr>\n",
       "  </thead>\n",
       "  <tbody>\n",
       "  </tbody>\n",
       "</table>\n",
       "</div>"
      ],
      "text/plain": [
       "Empty DataFrame\n",
       "Columns: [Year of event, Event dates, Event name, Event distance/length, Event number of finishers, Athlete performance, Athlete gender, Athlete average speed, Athlete ID, athlete_age]\n",
       "Index: []"
      ]
     },
     "execution_count": 69,
     "metadata": {},
     "output_type": "execute_result"
    }
   ],
   "source": [
    "df2[df2.duplicated() == True] # non avevamo alcun valore duplicato. In ogni caso abbiamo pulito"
   ]
  },
  {
   "cell_type": "code",
   "execution_count": 72,
   "id": "c01e0061-ec69-4bbb-ac07-bbf75a3fdacf",
   "metadata": {
    "editable": true,
    "slideshow": {
     "slide_type": ""
    },
    "tags": []
   },
   "outputs": [],
   "source": [
    "# reimpostare l'indice"
   ]
  },
  {
   "cell_type": "code",
   "execution_count": 73,
   "id": "2e806565-dfd4-4a4c-a710-cf90854c7205",
   "metadata": {
    "editable": true,
    "slideshow": {
     "slide_type": ""
    },
    "tags": []
   },
   "outputs": [
    {
     "data": {
      "text/html": [
       "<div>\n",
       "<style scoped>\n",
       "    .dataframe tbody tr th:only-of-type {\n",
       "        vertical-align: middle;\n",
       "    }\n",
       "\n",
       "    .dataframe tbody tr th {\n",
       "        vertical-align: top;\n",
       "    }\n",
       "\n",
       "    .dataframe thead th {\n",
       "        text-align: right;\n",
       "    }\n",
       "</style>\n",
       "<table border=\"1\" class=\"dataframe\">\n",
       "  <thead>\n",
       "    <tr style=\"text-align: right;\">\n",
       "      <th></th>\n",
       "      <th>Year of event</th>\n",
       "      <th>Event dates</th>\n",
       "      <th>Event name</th>\n",
       "      <th>Event distance/length</th>\n",
       "      <th>Event number of finishers</th>\n",
       "      <th>Athlete performance</th>\n",
       "      <th>Athlete gender</th>\n",
       "      <th>Athlete average speed</th>\n",
       "      <th>Athlete ID</th>\n",
       "      <th>athlete_age</th>\n",
       "    </tr>\n",
       "  </thead>\n",
       "  <tbody>\n",
       "    <tr>\n",
       "      <th>0</th>\n",
       "      <td>2020</td>\n",
       "      <td>02.02.2020</td>\n",
       "      <td>West Seattle Beach Run - Winter Edition</td>\n",
       "      <td>50km</td>\n",
       "      <td>20.0</td>\n",
       "      <td>3:17:55</td>\n",
       "      <td>M</td>\n",
       "      <td>15.158</td>\n",
       "      <td>71287.0</td>\n",
       "      <td>29.0</td>\n",
       "    </tr>\n",
       "    <tr>\n",
       "      <th>1</th>\n",
       "      <td>2020</td>\n",
       "      <td>02.02.2020</td>\n",
       "      <td>West Seattle Beach Run - Winter Edition</td>\n",
       "      <td>50km</td>\n",
       "      <td>20.0</td>\n",
       "      <td>4:02:32</td>\n",
       "      <td>M</td>\n",
       "      <td>12.369</td>\n",
       "      <td>629508.0</td>\n",
       "      <td>39.0</td>\n",
       "    </tr>\n",
       "    <tr>\n",
       "      <th>2</th>\n",
       "      <td>2020</td>\n",
       "      <td>02.02.2020</td>\n",
       "      <td>West Seattle Beach Run - Winter Edition</td>\n",
       "      <td>50km</td>\n",
       "      <td>20.0</td>\n",
       "      <td>4:07:57</td>\n",
       "      <td>M</td>\n",
       "      <td>12.099</td>\n",
       "      <td>64838.0</td>\n",
       "      <td>21.0</td>\n",
       "    </tr>\n",
       "    <tr>\n",
       "      <th>3</th>\n",
       "      <td>2020</td>\n",
       "      <td>02.02.2020</td>\n",
       "      <td>West Seattle Beach Run - Winter Edition</td>\n",
       "      <td>50km</td>\n",
       "      <td>20.0</td>\n",
       "      <td>4:22:02</td>\n",
       "      <td>M</td>\n",
       "      <td>11.449</td>\n",
       "      <td>704450.0</td>\n",
       "      <td>37.0</td>\n",
       "    </tr>\n",
       "    <tr>\n",
       "      <th>4</th>\n",
       "      <td>2020</td>\n",
       "      <td>02.02.2020</td>\n",
       "      <td>West Seattle Beach Run - Winter Edition</td>\n",
       "      <td>50km</td>\n",
       "      <td>20.0</td>\n",
       "      <td>4:27:34</td>\n",
       "      <td>M</td>\n",
       "      <td>11.212</td>\n",
       "      <td>810281.0</td>\n",
       "      <td>43.0</td>\n",
       "    </tr>\n",
       "    <tr>\n",
       "      <th>...</th>\n",
       "      <td>...</td>\n",
       "      <td>...</td>\n",
       "      <td>...</td>\n",
       "      <td>...</td>\n",
       "      <td>...</td>\n",
       "      <td>...</td>\n",
       "      <td>...</td>\n",
       "      <td>...</td>\n",
       "      <td>...</td>\n",
       "      <td>...</td>\n",
       "    </tr>\n",
       "    <tr>\n",
       "      <th>25852</th>\n",
       "      <td>2020</td>\n",
       "      <td>03.10.2020</td>\n",
       "      <td>Yankee Springs Fall Trail Run Festival</td>\n",
       "      <td>50km</td>\n",
       "      <td>30.0</td>\n",
       "      <td>7:07:48</td>\n",
       "      <td>F</td>\n",
       "      <td>7.013</td>\n",
       "      <td>816361.0</td>\n",
       "      <td>62.0</td>\n",
       "    </tr>\n",
       "    <tr>\n",
       "      <th>25853</th>\n",
       "      <td>2020</td>\n",
       "      <td>03.10.2020</td>\n",
       "      <td>Yankee Springs Fall Trail Run Festival</td>\n",
       "      <td>50km</td>\n",
       "      <td>30.0</td>\n",
       "      <td>7:27:22</td>\n",
       "      <td>F</td>\n",
       "      <td>6.706</td>\n",
       "      <td>326469.0</td>\n",
       "      <td>43.0</td>\n",
       "    </tr>\n",
       "    <tr>\n",
       "      <th>25854</th>\n",
       "      <td>2020</td>\n",
       "      <td>03.10.2020</td>\n",
       "      <td>Yankee Springs Fall Trail Run Festival</td>\n",
       "      <td>50km</td>\n",
       "      <td>30.0</td>\n",
       "      <td>7:27:24</td>\n",
       "      <td>F</td>\n",
       "      <td>6.705</td>\n",
       "      <td>372174.0</td>\n",
       "      <td>58.0</td>\n",
       "    </tr>\n",
       "    <tr>\n",
       "      <th>25855</th>\n",
       "      <td>2020</td>\n",
       "      <td>03.10.2020</td>\n",
       "      <td>Yankee Springs Fall Trail Run Festival</td>\n",
       "      <td>50km</td>\n",
       "      <td>30.0</td>\n",
       "      <td>7:38:30</td>\n",
       "      <td>F</td>\n",
       "      <td>6.543</td>\n",
       "      <td>860349.0</td>\n",
       "      <td>39.0</td>\n",
       "    </tr>\n",
       "    <tr>\n",
       "      <th>25856</th>\n",
       "      <td>2020</td>\n",
       "      <td>03.10.2020</td>\n",
       "      <td>Yankee Springs Fall Trail Run Festival</td>\n",
       "      <td>50km</td>\n",
       "      <td>30.0</td>\n",
       "      <td>7:59:53</td>\n",
       "      <td>M</td>\n",
       "      <td>6.252</td>\n",
       "      <td>770097.0</td>\n",
       "      <td>40.0</td>\n",
       "    </tr>\n",
       "  </tbody>\n",
       "</table>\n",
       "<p>25857 rows × 10 columns</p>\n",
       "</div>"
      ],
      "text/plain": [
       "       Year of event Event dates                                Event name  \\\n",
       "0               2020  02.02.2020  West Seattle Beach Run - Winter Edition    \n",
       "1               2020  02.02.2020  West Seattle Beach Run - Winter Edition    \n",
       "2               2020  02.02.2020  West Seattle Beach Run - Winter Edition    \n",
       "3               2020  02.02.2020  West Seattle Beach Run - Winter Edition    \n",
       "4               2020  02.02.2020  West Seattle Beach Run - Winter Edition    \n",
       "...              ...         ...                                       ...   \n",
       "25852           2020  03.10.2020   Yankee Springs Fall Trail Run Festival    \n",
       "25853           2020  03.10.2020   Yankee Springs Fall Trail Run Festival    \n",
       "25854           2020  03.10.2020   Yankee Springs Fall Trail Run Festival    \n",
       "25855           2020  03.10.2020   Yankee Springs Fall Trail Run Festival    \n",
       "25856           2020  03.10.2020   Yankee Springs Fall Trail Run Festival    \n",
       "\n",
       "      Event distance/length  Event number of finishers Athlete performance  \\\n",
       "0                      50km                       20.0           3:17:55     \n",
       "1                      50km                       20.0           4:02:32     \n",
       "2                      50km                       20.0           4:07:57     \n",
       "3                      50km                       20.0           4:22:02     \n",
       "4                      50km                       20.0           4:27:34     \n",
       "...                     ...                        ...                 ...   \n",
       "25852                  50km                       30.0           7:07:48     \n",
       "25853                  50km                       30.0           7:27:22     \n",
       "25854                  50km                       30.0           7:27:24     \n",
       "25855                  50km                       30.0           7:38:30     \n",
       "25856                  50km                       30.0           7:59:53     \n",
       "\n",
       "      Athlete gender Athlete average speed  Athlete ID  athlete_age  \n",
       "0                  M                15.158     71287.0         29.0  \n",
       "1                  M                12.369    629508.0         39.0  \n",
       "2                  M                12.099     64838.0         21.0  \n",
       "3                  M                11.449    704450.0         37.0  \n",
       "4                  M                11.212    810281.0         43.0  \n",
       "...              ...                   ...         ...          ...  \n",
       "25852              F                 7.013    816361.0         62.0  \n",
       "25853              F                 6.706    326469.0         43.0  \n",
       "25854              F                 6.705    372174.0         58.0  \n",
       "25855              F                 6.543    860349.0         39.0  \n",
       "25856              M                 6.252    770097.0         40.0  \n",
       "\n",
       "[25857 rows x 10 columns]"
      ]
     },
     "execution_count": 73,
     "metadata": {},
     "output_type": "execute_result"
    }
   ],
   "source": [
    "df2.reset_index(drop = True)"
   ]
  },
  {
   "cell_type": "code",
   "execution_count": 74,
   "id": "d62bf1c5-7e9c-49c9-9f18-fce09f5b912f",
   "metadata": {
    "editable": true,
    "slideshow": {
     "slide_type": ""
    },
    "tags": []
   },
   "outputs": [],
   "source": [
    "# correggere i tipi di alcune colonne"
   ]
  },
  {
   "cell_type": "code",
   "execution_count": 81,
   "id": "cbc6a66c-a3ae-491d-9545-0d7507e387e8",
   "metadata": {},
   "outputs": [
    {
     "data": {
      "text/plain": [
       "Year of event                  int64\n",
       "Event dates                   object\n",
       "Event name                    object\n",
       "Event distance/length         object\n",
       "Event number of finishers    float64\n",
       "Athlete performance           object\n",
       "Athlete gender                object\n",
       "Athlete average speed        float64\n",
       "Athlete ID                   float64\n",
       "athlete_age                    int64\n",
       "dtype: object"
      ]
     },
     "execution_count": 81,
     "metadata": {},
     "output_type": "execute_result"
    }
   ],
   "source": [
    "df2.dtypes"
   ]
  },
  {
   "cell_type": "code",
   "execution_count": 79,
   "id": "220c275f-5463-41d3-9e0a-33d8cca1033f",
   "metadata": {
    "editable": true,
    "slideshow": {
     "slide_type": ""
    },
    "tags": []
   },
   "outputs": [],
   "source": [
    "df2['athlete_age'] = df2['athlete_age'].astype(int)"
   ]
  },
  {
   "cell_type": "code",
   "execution_count": 80,
   "id": "e2eea5c9-5e83-4aa5-81b1-2f5cf76fe3db",
   "metadata": {
    "editable": true,
    "slideshow": {
     "slide_type": ""
    },
    "tags": []
   },
   "outputs": [],
   "source": [
    "df2['Athlete average speed'] = df2['Athlete average speed'].astype(float)"
   ]
  },
  {
   "cell_type": "code",
   "execution_count": 82,
   "id": "28d58dd8-1a1c-4baf-9990-35d70a2bfdf3",
   "metadata": {},
   "outputs": [],
   "source": [
    "# rinominare tutte le colonne"
   ]
  },
  {
   "cell_type": "code",
   "execution_count": 83,
   "id": "36c3a5b3-b69e-4412-b600-e6637a92a5f8",
   "metadata": {},
   "outputs": [
    {
     "data": {
      "text/html": [
       "<div>\n",
       "<style scoped>\n",
       "    .dataframe tbody tr th:only-of-type {\n",
       "        vertical-align: middle;\n",
       "    }\n",
       "\n",
       "    .dataframe tbody tr th {\n",
       "        vertical-align: top;\n",
       "    }\n",
       "\n",
       "    .dataframe thead th {\n",
       "        text-align: right;\n",
       "    }\n",
       "</style>\n",
       "<table border=\"1\" class=\"dataframe\">\n",
       "  <thead>\n",
       "    <tr style=\"text-align: right;\">\n",
       "      <th></th>\n",
       "      <th>Year of event</th>\n",
       "      <th>Event dates</th>\n",
       "      <th>Event name</th>\n",
       "      <th>Event distance/length</th>\n",
       "      <th>Event number of finishers</th>\n",
       "      <th>Athlete performance</th>\n",
       "      <th>Athlete gender</th>\n",
       "      <th>Athlete average speed</th>\n",
       "      <th>Athlete ID</th>\n",
       "      <th>athlete_age</th>\n",
       "    </tr>\n",
       "  </thead>\n",
       "  <tbody>\n",
       "  </tbody>\n",
       "</table>\n",
       "</div>"
      ],
      "text/plain": [
       "Empty DataFrame\n",
       "Columns: [Year of event, Event dates, Event name, Event distance/length, Event number of finishers, Athlete performance, Athlete gender, Athlete average speed, Athlete ID, athlete_age]\n",
       "Index: []"
      ]
     },
     "execution_count": 83,
     "metadata": {},
     "output_type": "execute_result"
    }
   ],
   "source": [
    "df2.head(0)"
   ]
  },
  {
   "cell_type": "code",
   "execution_count": 99,
   "id": "54bedb76-bcc7-4395-8786-d9a0afea9397",
   "metadata": {
    "editable": true,
    "scrolled": true,
    "slideshow": {
     "slide_type": ""
    },
    "tags": []
   },
   "outputs": [],
   "source": [
    "df2.rename(columns = {\n",
    "    'Year of event':'year',\n",
    "    'Event dates':'race_day',\n",
    "    'Event name':'race_name',\n",
    "    'Event distance/length':'race_length',\n",
    "    'Event number of finishers':'race_num_finishers',\n",
    "    'Athlete performance':'athlete_performance',\n",
    "    'Athlete gender':'athlete_gender',\n",
    "    'Athlete average speed':'athlete_ave_speed',\n",
    "    'Athlete ID':'athlete_id'\n",
    "}, inplace = True)"
   ]
  },
  {
   "cell_type": "code",
   "execution_count": 86,
   "id": "879ff1e7-0083-447d-922b-05536fc5b3d5",
   "metadata": {
    "editable": true,
    "slideshow": {
     "slide_type": ""
    },
    "tags": []
   },
   "outputs": [],
   "source": [
    "# reordinare tutte le colonne e rietichettare il dataframe di nuova"
   ]
  },
  {
   "cell_type": "code",
   "execution_count": 100,
   "id": "f2addd92-385b-4713-814c-e9823c9375d0",
   "metadata": {
    "editable": true,
    "slideshow": {
     "slide_type": ""
    },
    "tags": []
   },
   "outputs": [],
   "source": [
    "df3 = df2[['race_name','race_day','year','race_length','race_num_finishers','athlete_id','athlete_gender','athlete_age','athlete_ave_speed','athlete_performance']]"
   ]
  },
  {
   "cell_type": "code",
   "execution_count": 103,
   "id": "c70070a0-ad73-430f-b0f5-025afd04b3bc",
   "metadata": {
    "editable": true,
    "slideshow": {
     "slide_type": ""
    },
    "tags": []
   },
   "outputs": [],
   "source": [
    "# ora troviamo un atleta con un ID specifico\n",
    "# prima dobbiamo trovare le 2 races - Manasota / Everglades"
   ]
  },
  {
   "cell_type": "code",
   "execution_count": 110,
   "id": "6163044b-3ff4-4006-af56-056d036e1557",
   "metadata": {
    "collapsed": true,
    "editable": true,
    "jupyter": {
     "outputs_hidden": true
    },
    "scrolled": true,
    "slideshow": {
     "slide_type": ""
    },
    "tags": []
   },
   "outputs": [
    {
     "data": {
      "text/html": [
       "<div>\n",
       "<style scoped>\n",
       "    .dataframe tbody tr th:only-of-type {\n",
       "        vertical-align: middle;\n",
       "    }\n",
       "\n",
       "    .dataframe tbody tr th {\n",
       "        vertical-align: top;\n",
       "    }\n",
       "\n",
       "    .dataframe thead th {\n",
       "        text-align: right;\n",
       "    }\n",
       "</style>\n",
       "<table border=\"1\" class=\"dataframe\">\n",
       "  <thead>\n",
       "    <tr style=\"text-align: right;\">\n",
       "      <th></th>\n",
       "      <th>race_name</th>\n",
       "      <th>race_day</th>\n",
       "      <th>year</th>\n",
       "      <th>race_length</th>\n",
       "      <th>race_num_finishers</th>\n",
       "      <th>athlete_id</th>\n",
       "      <th>athlete_gender</th>\n",
       "      <th>athlete_age</th>\n",
       "      <th>athlete_ave_speed</th>\n",
       "      <th>athlete_performance</th>\n",
       "    </tr>\n",
       "  </thead>\n",
       "  <tbody>\n",
       "    <tr>\n",
       "      <th>2591476</th>\n",
       "      <td>Everglades 50 Mile Ultra Run</td>\n",
       "      <td>14.03.2020</td>\n",
       "      <td>2020</td>\n",
       "      <td>50mi</td>\n",
       "      <td>40.0</td>\n",
       "      <td>820757.0</td>\n",
       "      <td>M</td>\n",
       "      <td>27</td>\n",
       "      <td>9.436</td>\n",
       "      <td>8:31:39</td>\n",
       "    </tr>\n",
       "    <tr>\n",
       "      <th>2591477</th>\n",
       "      <td>Everglades 50 Mile Ultra Run</td>\n",
       "      <td>14.03.2020</td>\n",
       "      <td>2020</td>\n",
       "      <td>50mi</td>\n",
       "      <td>40.0</td>\n",
       "      <td>46432.0</td>\n",
       "      <td>M</td>\n",
       "      <td>39</td>\n",
       "      <td>9.433</td>\n",
       "      <td>8:31:48</td>\n",
       "    </tr>\n",
       "    <tr>\n",
       "      <th>2591478</th>\n",
       "      <td>Everglades 50 Mile Ultra Run</td>\n",
       "      <td>14.03.2020</td>\n",
       "      <td>2020</td>\n",
       "      <td>50mi</td>\n",
       "      <td>40.0</td>\n",
       "      <td>813617.0</td>\n",
       "      <td>M</td>\n",
       "      <td>34</td>\n",
       "      <td>9.380</td>\n",
       "      <td>8:34:43</td>\n",
       "    </tr>\n",
       "    <tr>\n",
       "      <th>2591479</th>\n",
       "      <td>Everglades 50 Mile Ultra Run</td>\n",
       "      <td>14.03.2020</td>\n",
       "      <td>2020</td>\n",
       "      <td>50mi</td>\n",
       "      <td>40.0</td>\n",
       "      <td>820758.0</td>\n",
       "      <td>M</td>\n",
       "      <td>33</td>\n",
       "      <td>8.817</td>\n",
       "      <td>9:07:35</td>\n",
       "    </tr>\n",
       "    <tr>\n",
       "      <th>2591480</th>\n",
       "      <td>Everglades 50 Mile Ultra Run</td>\n",
       "      <td>14.03.2020</td>\n",
       "      <td>2020</td>\n",
       "      <td>50mi</td>\n",
       "      <td>40.0</td>\n",
       "      <td>647115.0</td>\n",
       "      <td>M</td>\n",
       "      <td>30</td>\n",
       "      <td>8.691</td>\n",
       "      <td>9:15:32</td>\n",
       "    </tr>\n",
       "    <tr>\n",
       "      <th>2591481</th>\n",
       "      <td>Everglades 50 Mile Ultra Run</td>\n",
       "      <td>14.03.2020</td>\n",
       "      <td>2020</td>\n",
       "      <td>50mi</td>\n",
       "      <td>40.0</td>\n",
       "      <td>696063.0</td>\n",
       "      <td>M</td>\n",
       "      <td>26</td>\n",
       "      <td>8.651</td>\n",
       "      <td>9:18:05</td>\n",
       "    </tr>\n",
       "    <tr>\n",
       "      <th>2591482</th>\n",
       "      <td>Everglades 50 Mile Ultra Run</td>\n",
       "      <td>14.03.2020</td>\n",
       "      <td>2020</td>\n",
       "      <td>50mi</td>\n",
       "      <td>40.0</td>\n",
       "      <td>222509.0</td>\n",
       "      <td>M</td>\n",
       "      <td>23</td>\n",
       "      <td>8.634</td>\n",
       "      <td>9:19:10</td>\n",
       "    </tr>\n",
       "    <tr>\n",
       "      <th>2591483</th>\n",
       "      <td>Everglades 50 Mile Ultra Run</td>\n",
       "      <td>14.03.2020</td>\n",
       "      <td>2020</td>\n",
       "      <td>50mi</td>\n",
       "      <td>40.0</td>\n",
       "      <td>820759.0</td>\n",
       "      <td>M</td>\n",
       "      <td>36</td>\n",
       "      <td>8.608</td>\n",
       "      <td>9:20:51</td>\n",
       "    </tr>\n",
       "    <tr>\n",
       "      <th>2591484</th>\n",
       "      <td>Everglades 50 Mile Ultra Run</td>\n",
       "      <td>14.03.2020</td>\n",
       "      <td>2020</td>\n",
       "      <td>50mi</td>\n",
       "      <td>40.0</td>\n",
       "      <td>359359.0</td>\n",
       "      <td>F</td>\n",
       "      <td>26</td>\n",
       "      <td>8.526</td>\n",
       "      <td>9:26:15</td>\n",
       "    </tr>\n",
       "    <tr>\n",
       "      <th>2591485</th>\n",
       "      <td>Everglades 50 Mile Ultra Run</td>\n",
       "      <td>14.03.2020</td>\n",
       "      <td>2020</td>\n",
       "      <td>50mi</td>\n",
       "      <td>40.0</td>\n",
       "      <td>103020.0</td>\n",
       "      <td>M</td>\n",
       "      <td>42</td>\n",
       "      <td>8.526</td>\n",
       "      <td>9:26:16</td>\n",
       "    </tr>\n",
       "    <tr>\n",
       "      <th>2591486</th>\n",
       "      <td>Everglades 50 Mile Ultra Run</td>\n",
       "      <td>14.03.2020</td>\n",
       "      <td>2020</td>\n",
       "      <td>50mi</td>\n",
       "      <td>40.0</td>\n",
       "      <td>202097.0</td>\n",
       "      <td>F</td>\n",
       "      <td>46</td>\n",
       "      <td>8.521</td>\n",
       "      <td>9:26:38</td>\n",
       "    </tr>\n",
       "    <tr>\n",
       "      <th>2591487</th>\n",
       "      <td>Everglades 50 Mile Ultra Run</td>\n",
       "      <td>14.03.2020</td>\n",
       "      <td>2020</td>\n",
       "      <td>50mi</td>\n",
       "      <td>40.0</td>\n",
       "      <td>820760.0</td>\n",
       "      <td>M</td>\n",
       "      <td>28</td>\n",
       "      <td>8.399</td>\n",
       "      <td>9:34:49</td>\n",
       "    </tr>\n",
       "    <tr>\n",
       "      <th>2591488</th>\n",
       "      <td>Everglades 50 Mile Ultra Run</td>\n",
       "      <td>14.03.2020</td>\n",
       "      <td>2020</td>\n",
       "      <td>50mi</td>\n",
       "      <td>40.0</td>\n",
       "      <td>820761.0</td>\n",
       "      <td>M</td>\n",
       "      <td>38</td>\n",
       "      <td>8.200</td>\n",
       "      <td>9:48:47</td>\n",
       "    </tr>\n",
       "    <tr>\n",
       "      <th>2591489</th>\n",
       "      <td>Everglades 50 Mile Ultra Run</td>\n",
       "      <td>14.03.2020</td>\n",
       "      <td>2020</td>\n",
       "      <td>50mi</td>\n",
       "      <td>40.0</td>\n",
       "      <td>820762.0</td>\n",
       "      <td>M</td>\n",
       "      <td>40</td>\n",
       "      <td>8.200</td>\n",
       "      <td>9:48:47</td>\n",
       "    </tr>\n",
       "    <tr>\n",
       "      <th>2591490</th>\n",
       "      <td>Everglades 50 Mile Ultra Run</td>\n",
       "      <td>14.03.2020</td>\n",
       "      <td>2020</td>\n",
       "      <td>50mi</td>\n",
       "      <td>40.0</td>\n",
       "      <td>820763.0</td>\n",
       "      <td>F</td>\n",
       "      <td>35</td>\n",
       "      <td>7.549</td>\n",
       "      <td>10:39:32</td>\n",
       "    </tr>\n",
       "    <tr>\n",
       "      <th>2591491</th>\n",
       "      <td>Everglades 50 Mile Ultra Run</td>\n",
       "      <td>14.03.2020</td>\n",
       "      <td>2020</td>\n",
       "      <td>50mi</td>\n",
       "      <td>40.0</td>\n",
       "      <td>39534.0</td>\n",
       "      <td>M</td>\n",
       "      <td>47</td>\n",
       "      <td>7.549</td>\n",
       "      <td>10:39:35</td>\n",
       "    </tr>\n",
       "    <tr>\n",
       "      <th>2591492</th>\n",
       "      <td>Everglades 50 Mile Ultra Run</td>\n",
       "      <td>14.03.2020</td>\n",
       "      <td>2020</td>\n",
       "      <td>50mi</td>\n",
       "      <td>40.0</td>\n",
       "      <td>190251.0</td>\n",
       "      <td>M</td>\n",
       "      <td>44</td>\n",
       "      <td>7.494</td>\n",
       "      <td>10:44:13</td>\n",
       "    </tr>\n",
       "    <tr>\n",
       "      <th>2591493</th>\n",
       "      <td>Everglades 50 Mile Ultra Run</td>\n",
       "      <td>14.03.2020</td>\n",
       "      <td>2020</td>\n",
       "      <td>50mi</td>\n",
       "      <td>40.0</td>\n",
       "      <td>202096.0</td>\n",
       "      <td>F</td>\n",
       "      <td>58</td>\n",
       "      <td>7.350</td>\n",
       "      <td>10:56:52</td>\n",
       "    </tr>\n",
       "    <tr>\n",
       "      <th>2591494</th>\n",
       "      <td>Everglades 50 Mile Ultra Run</td>\n",
       "      <td>14.03.2020</td>\n",
       "      <td>2020</td>\n",
       "      <td>50mi</td>\n",
       "      <td>40.0</td>\n",
       "      <td>695761.0</td>\n",
       "      <td>M</td>\n",
       "      <td>33</td>\n",
       "      <td>7.251</td>\n",
       "      <td>11:05:48</td>\n",
       "    </tr>\n",
       "    <tr>\n",
       "      <th>2591495</th>\n",
       "      <td>Everglades 50 Mile Ultra Run</td>\n",
       "      <td>14.03.2020</td>\n",
       "      <td>2020</td>\n",
       "      <td>50mi</td>\n",
       "      <td>40.0</td>\n",
       "      <td>696060.0</td>\n",
       "      <td>M</td>\n",
       "      <td>30</td>\n",
       "      <td>7.207</td>\n",
       "      <td>11:09:54</td>\n",
       "    </tr>\n",
       "    <tr>\n",
       "      <th>2591496</th>\n",
       "      <td>Everglades 50 Mile Ultra Run</td>\n",
       "      <td>14.03.2020</td>\n",
       "      <td>2020</td>\n",
       "      <td>50mi</td>\n",
       "      <td>40.0</td>\n",
       "      <td>47609.0</td>\n",
       "      <td>M</td>\n",
       "      <td>40</td>\n",
       "      <td>7.171</td>\n",
       "      <td>11:13:16</td>\n",
       "    </tr>\n",
       "    <tr>\n",
       "      <th>2591497</th>\n",
       "      <td>Everglades 50 Mile Ultra Run</td>\n",
       "      <td>14.03.2020</td>\n",
       "      <td>2020</td>\n",
       "      <td>50mi</td>\n",
       "      <td>40.0</td>\n",
       "      <td>347938.0</td>\n",
       "      <td>M</td>\n",
       "      <td>49</td>\n",
       "      <td>6.902</td>\n",
       "      <td>11:39:29</td>\n",
       "    </tr>\n",
       "    <tr>\n",
       "      <th>2591498</th>\n",
       "      <td>Everglades 50 Mile Ultra Run</td>\n",
       "      <td>14.03.2020</td>\n",
       "      <td>2020</td>\n",
       "      <td>50mi</td>\n",
       "      <td>40.0</td>\n",
       "      <td>55213.0</td>\n",
       "      <td>M</td>\n",
       "      <td>51</td>\n",
       "      <td>6.902</td>\n",
       "      <td>11:39:30</td>\n",
       "    </tr>\n",
       "    <tr>\n",
       "      <th>2591499</th>\n",
       "      <td>Everglades 50 Mile Ultra Run</td>\n",
       "      <td>14.03.2020</td>\n",
       "      <td>2020</td>\n",
       "      <td>50mi</td>\n",
       "      <td>40.0</td>\n",
       "      <td>393456.0</td>\n",
       "      <td>M</td>\n",
       "      <td>57</td>\n",
       "      <td>6.877</td>\n",
       "      <td>11:42:05</td>\n",
       "    </tr>\n",
       "    <tr>\n",
       "      <th>2591500</th>\n",
       "      <td>Everglades 50 Mile Ultra Run</td>\n",
       "      <td>14.03.2020</td>\n",
       "      <td>2020</td>\n",
       "      <td>50mi</td>\n",
       "      <td>40.0</td>\n",
       "      <td>197745.0</td>\n",
       "      <td>M</td>\n",
       "      <td>43</td>\n",
       "      <td>6.831</td>\n",
       "      <td>11:46:44</td>\n",
       "    </tr>\n",
       "    <tr>\n",
       "      <th>2591501</th>\n",
       "      <td>Everglades 50 Mile Ultra Run</td>\n",
       "      <td>14.03.2020</td>\n",
       "      <td>2020</td>\n",
       "      <td>50mi</td>\n",
       "      <td>40.0</td>\n",
       "      <td>248521.0</td>\n",
       "      <td>M</td>\n",
       "      <td>46</td>\n",
       "      <td>6.764</td>\n",
       "      <td>11:53:44</td>\n",
       "    </tr>\n",
       "    <tr>\n",
       "      <th>2591502</th>\n",
       "      <td>Everglades 50 Mile Ultra Run</td>\n",
       "      <td>14.03.2020</td>\n",
       "      <td>2020</td>\n",
       "      <td>50mi</td>\n",
       "      <td>40.0</td>\n",
       "      <td>820764.0</td>\n",
       "      <td>F</td>\n",
       "      <td>45</td>\n",
       "      <td>6.535</td>\n",
       "      <td>12:18:49</td>\n",
       "    </tr>\n",
       "    <tr>\n",
       "      <th>2591503</th>\n",
       "      <td>Everglades 50 Mile Ultra Run</td>\n",
       "      <td>14.03.2020</td>\n",
       "      <td>2020</td>\n",
       "      <td>50mi</td>\n",
       "      <td>40.0</td>\n",
       "      <td>733944.0</td>\n",
       "      <td>M</td>\n",
       "      <td>27</td>\n",
       "      <td>6.419</td>\n",
       "      <td>12:32:10</td>\n",
       "    </tr>\n",
       "    <tr>\n",
       "      <th>2591504</th>\n",
       "      <td>Everglades 50 Mile Ultra Run</td>\n",
       "      <td>14.03.2020</td>\n",
       "      <td>2020</td>\n",
       "      <td>50mi</td>\n",
       "      <td>40.0</td>\n",
       "      <td>140763.0</td>\n",
       "      <td>M</td>\n",
       "      <td>68</td>\n",
       "      <td>6.371</td>\n",
       "      <td>12:37:47</td>\n",
       "    </tr>\n",
       "    <tr>\n",
       "      <th>2591505</th>\n",
       "      <td>Everglades 50 Mile Ultra Run</td>\n",
       "      <td>14.03.2020</td>\n",
       "      <td>2020</td>\n",
       "      <td>50mi</td>\n",
       "      <td>40.0</td>\n",
       "      <td>47616.0</td>\n",
       "      <td>F</td>\n",
       "      <td>52</td>\n",
       "      <td>6.338</td>\n",
       "      <td>12:41:43</td>\n",
       "    </tr>\n",
       "    <tr>\n",
       "      <th>2591506</th>\n",
       "      <td>Everglades 50 Mile Ultra Run</td>\n",
       "      <td>14.03.2020</td>\n",
       "      <td>2020</td>\n",
       "      <td>50mi</td>\n",
       "      <td>40.0</td>\n",
       "      <td>820765.0</td>\n",
       "      <td>M</td>\n",
       "      <td>41</td>\n",
       "      <td>6.333</td>\n",
       "      <td>12:42:21</td>\n",
       "    </tr>\n",
       "    <tr>\n",
       "      <th>2591507</th>\n",
       "      <td>Everglades 50 Mile Ultra Run</td>\n",
       "      <td>14.03.2020</td>\n",
       "      <td>2020</td>\n",
       "      <td>50mi</td>\n",
       "      <td>40.0</td>\n",
       "      <td>311648.0</td>\n",
       "      <td>M</td>\n",
       "      <td>54</td>\n",
       "      <td>6.282</td>\n",
       "      <td>12:48:30</td>\n",
       "    </tr>\n",
       "    <tr>\n",
       "      <th>2591508</th>\n",
       "      <td>Everglades 50 Mile Ultra Run</td>\n",
       "      <td>14.03.2020</td>\n",
       "      <td>2020</td>\n",
       "      <td>50mi</td>\n",
       "      <td>40.0</td>\n",
       "      <td>211177.0</td>\n",
       "      <td>F</td>\n",
       "      <td>38</td>\n",
       "      <td>6.282</td>\n",
       "      <td>12:48:31</td>\n",
       "    </tr>\n",
       "    <tr>\n",
       "      <th>2591509</th>\n",
       "      <td>Everglades 50 Mile Ultra Run</td>\n",
       "      <td>14.03.2020</td>\n",
       "      <td>2020</td>\n",
       "      <td>50mi</td>\n",
       "      <td>40.0</td>\n",
       "      <td>369928.0</td>\n",
       "      <td>M</td>\n",
       "      <td>58</td>\n",
       "      <td>6.240</td>\n",
       "      <td>12:53:43</td>\n",
       "    </tr>\n",
       "    <tr>\n",
       "      <th>2591510</th>\n",
       "      <td>Everglades 50 Mile Ultra Run</td>\n",
       "      <td>14.03.2020</td>\n",
       "      <td>2020</td>\n",
       "      <td>50mi</td>\n",
       "      <td>40.0</td>\n",
       "      <td>198005.0</td>\n",
       "      <td>M</td>\n",
       "      <td>55</td>\n",
       "      <td>6.114</td>\n",
       "      <td>13:09:39</td>\n",
       "    </tr>\n",
       "    <tr>\n",
       "      <th>2591511</th>\n",
       "      <td>Everglades 50 Mile Ultra Run</td>\n",
       "      <td>14.03.2020</td>\n",
       "      <td>2020</td>\n",
       "      <td>50mi</td>\n",
       "      <td>40.0</td>\n",
       "      <td>695776.0</td>\n",
       "      <td>M</td>\n",
       "      <td>51</td>\n",
       "      <td>5.868</td>\n",
       "      <td>13:42:48</td>\n",
       "    </tr>\n",
       "    <tr>\n",
       "      <th>2591512</th>\n",
       "      <td>Everglades 50 Mile Ultra Run</td>\n",
       "      <td>14.03.2020</td>\n",
       "      <td>2020</td>\n",
       "      <td>50mi</td>\n",
       "      <td>40.0</td>\n",
       "      <td>647125.0</td>\n",
       "      <td>M</td>\n",
       "      <td>56</td>\n",
       "      <td>5.850</td>\n",
       "      <td>13:45:22</td>\n",
       "    </tr>\n",
       "    <tr>\n",
       "      <th>2591513</th>\n",
       "      <td>Everglades 50 Mile Ultra Run</td>\n",
       "      <td>14.03.2020</td>\n",
       "      <td>2020</td>\n",
       "      <td>50mi</td>\n",
       "      <td>40.0</td>\n",
       "      <td>12531.0</td>\n",
       "      <td>M</td>\n",
       "      <td>42</td>\n",
       "      <td>5.838</td>\n",
       "      <td>13:46:59</td>\n",
       "    </tr>\n",
       "    <tr>\n",
       "      <th>2591514</th>\n",
       "      <td>Everglades 50 Mile Ultra Run</td>\n",
       "      <td>14.03.2020</td>\n",
       "      <td>2020</td>\n",
       "      <td>50mi</td>\n",
       "      <td>40.0</td>\n",
       "      <td>19081.0</td>\n",
       "      <td>M</td>\n",
       "      <td>52</td>\n",
       "      <td>5.768</td>\n",
       "      <td>13:57:02</td>\n",
       "    </tr>\n",
       "    <tr>\n",
       "      <th>2591515</th>\n",
       "      <td>Everglades 50 Mile Ultra Run</td>\n",
       "      <td>14.03.2020</td>\n",
       "      <td>2020</td>\n",
       "      <td>50mi</td>\n",
       "      <td>40.0</td>\n",
       "      <td>34961.0</td>\n",
       "      <td>M</td>\n",
       "      <td>49</td>\n",
       "      <td>5.768</td>\n",
       "      <td>13:57:02</td>\n",
       "    </tr>\n",
       "  </tbody>\n",
       "</table>\n",
       "</div>"
      ],
      "text/plain": [
       "                             race_name    race_day  year race_length  \\\n",
       "2591476  Everglades 50 Mile Ultra Run   14.03.2020  2020        50mi   \n",
       "2591477  Everglades 50 Mile Ultra Run   14.03.2020  2020        50mi   \n",
       "2591478  Everglades 50 Mile Ultra Run   14.03.2020  2020        50mi   \n",
       "2591479  Everglades 50 Mile Ultra Run   14.03.2020  2020        50mi   \n",
       "2591480  Everglades 50 Mile Ultra Run   14.03.2020  2020        50mi   \n",
       "2591481  Everglades 50 Mile Ultra Run   14.03.2020  2020        50mi   \n",
       "2591482  Everglades 50 Mile Ultra Run   14.03.2020  2020        50mi   \n",
       "2591483  Everglades 50 Mile Ultra Run   14.03.2020  2020        50mi   \n",
       "2591484  Everglades 50 Mile Ultra Run   14.03.2020  2020        50mi   \n",
       "2591485  Everglades 50 Mile Ultra Run   14.03.2020  2020        50mi   \n",
       "2591486  Everglades 50 Mile Ultra Run   14.03.2020  2020        50mi   \n",
       "2591487  Everglades 50 Mile Ultra Run   14.03.2020  2020        50mi   \n",
       "2591488  Everglades 50 Mile Ultra Run   14.03.2020  2020        50mi   \n",
       "2591489  Everglades 50 Mile Ultra Run   14.03.2020  2020        50mi   \n",
       "2591490  Everglades 50 Mile Ultra Run   14.03.2020  2020        50mi   \n",
       "2591491  Everglades 50 Mile Ultra Run   14.03.2020  2020        50mi   \n",
       "2591492  Everglades 50 Mile Ultra Run   14.03.2020  2020        50mi   \n",
       "2591493  Everglades 50 Mile Ultra Run   14.03.2020  2020        50mi   \n",
       "2591494  Everglades 50 Mile Ultra Run   14.03.2020  2020        50mi   \n",
       "2591495  Everglades 50 Mile Ultra Run   14.03.2020  2020        50mi   \n",
       "2591496  Everglades 50 Mile Ultra Run   14.03.2020  2020        50mi   \n",
       "2591497  Everglades 50 Mile Ultra Run   14.03.2020  2020        50mi   \n",
       "2591498  Everglades 50 Mile Ultra Run   14.03.2020  2020        50mi   \n",
       "2591499  Everglades 50 Mile Ultra Run   14.03.2020  2020        50mi   \n",
       "2591500  Everglades 50 Mile Ultra Run   14.03.2020  2020        50mi   \n",
       "2591501  Everglades 50 Mile Ultra Run   14.03.2020  2020        50mi   \n",
       "2591502  Everglades 50 Mile Ultra Run   14.03.2020  2020        50mi   \n",
       "2591503  Everglades 50 Mile Ultra Run   14.03.2020  2020        50mi   \n",
       "2591504  Everglades 50 Mile Ultra Run   14.03.2020  2020        50mi   \n",
       "2591505  Everglades 50 Mile Ultra Run   14.03.2020  2020        50mi   \n",
       "2591506  Everglades 50 Mile Ultra Run   14.03.2020  2020        50mi   \n",
       "2591507  Everglades 50 Mile Ultra Run   14.03.2020  2020        50mi   \n",
       "2591508  Everglades 50 Mile Ultra Run   14.03.2020  2020        50mi   \n",
       "2591509  Everglades 50 Mile Ultra Run   14.03.2020  2020        50mi   \n",
       "2591510  Everglades 50 Mile Ultra Run   14.03.2020  2020        50mi   \n",
       "2591511  Everglades 50 Mile Ultra Run   14.03.2020  2020        50mi   \n",
       "2591512  Everglades 50 Mile Ultra Run   14.03.2020  2020        50mi   \n",
       "2591513  Everglades 50 Mile Ultra Run   14.03.2020  2020        50mi   \n",
       "2591514  Everglades 50 Mile Ultra Run   14.03.2020  2020        50mi   \n",
       "2591515  Everglades 50 Mile Ultra Run   14.03.2020  2020        50mi   \n",
       "\n",
       "         race_num_finishers  athlete_id athlete_gender  athlete_age  \\\n",
       "2591476                40.0    820757.0              M           27   \n",
       "2591477                40.0     46432.0              M           39   \n",
       "2591478                40.0    813617.0              M           34   \n",
       "2591479                40.0    820758.0              M           33   \n",
       "2591480                40.0    647115.0              M           30   \n",
       "2591481                40.0    696063.0              M           26   \n",
       "2591482                40.0    222509.0              M           23   \n",
       "2591483                40.0    820759.0              M           36   \n",
       "2591484                40.0    359359.0              F           26   \n",
       "2591485                40.0    103020.0              M           42   \n",
       "2591486                40.0    202097.0              F           46   \n",
       "2591487                40.0    820760.0              M           28   \n",
       "2591488                40.0    820761.0              M           38   \n",
       "2591489                40.0    820762.0              M           40   \n",
       "2591490                40.0    820763.0              F           35   \n",
       "2591491                40.0     39534.0              M           47   \n",
       "2591492                40.0    190251.0              M           44   \n",
       "2591493                40.0    202096.0              F           58   \n",
       "2591494                40.0    695761.0              M           33   \n",
       "2591495                40.0    696060.0              M           30   \n",
       "2591496                40.0     47609.0              M           40   \n",
       "2591497                40.0    347938.0              M           49   \n",
       "2591498                40.0     55213.0              M           51   \n",
       "2591499                40.0    393456.0              M           57   \n",
       "2591500                40.0    197745.0              M           43   \n",
       "2591501                40.0    248521.0              M           46   \n",
       "2591502                40.0    820764.0              F           45   \n",
       "2591503                40.0    733944.0              M           27   \n",
       "2591504                40.0    140763.0              M           68   \n",
       "2591505                40.0     47616.0              F           52   \n",
       "2591506                40.0    820765.0              M           41   \n",
       "2591507                40.0    311648.0              M           54   \n",
       "2591508                40.0    211177.0              F           38   \n",
       "2591509                40.0    369928.0              M           58   \n",
       "2591510                40.0    198005.0              M           55   \n",
       "2591511                40.0    695776.0              M           51   \n",
       "2591512                40.0    647125.0              M           56   \n",
       "2591513                40.0     12531.0              M           42   \n",
       "2591514                40.0     19081.0              M           52   \n",
       "2591515                40.0     34961.0              M           49   \n",
       "\n",
       "         athlete_ave_speed athlete_performance  \n",
       "2591476              9.436           8:31:39    \n",
       "2591477              9.433           8:31:48    \n",
       "2591478              9.380           8:34:43    \n",
       "2591479              8.817           9:07:35    \n",
       "2591480              8.691           9:15:32    \n",
       "2591481              8.651           9:18:05    \n",
       "2591482              8.634           9:19:10    \n",
       "2591483              8.608           9:20:51    \n",
       "2591484              8.526           9:26:15    \n",
       "2591485              8.526           9:26:16    \n",
       "2591486              8.521           9:26:38    \n",
       "2591487              8.399           9:34:49    \n",
       "2591488              8.200           9:48:47    \n",
       "2591489              8.200           9:48:47    \n",
       "2591490              7.549          10:39:32    \n",
       "2591491              7.549          10:39:35    \n",
       "2591492              7.494          10:44:13    \n",
       "2591493              7.350          10:56:52    \n",
       "2591494              7.251          11:05:48    \n",
       "2591495              7.207          11:09:54    \n",
       "2591496              7.171          11:13:16    \n",
       "2591497              6.902          11:39:29    \n",
       "2591498              6.902          11:39:30    \n",
       "2591499              6.877          11:42:05    \n",
       "2591500              6.831          11:46:44    \n",
       "2591501              6.764          11:53:44    \n",
       "2591502              6.535          12:18:49    \n",
       "2591503              6.419          12:32:10    \n",
       "2591504              6.371          12:37:47    \n",
       "2591505              6.338          12:41:43    \n",
       "2591506              6.333          12:42:21    \n",
       "2591507              6.282          12:48:30    \n",
       "2591508              6.282          12:48:31    \n",
       "2591509              6.240          12:53:43    \n",
       "2591510              6.114          13:09:39    \n",
       "2591511              5.868          13:42:48    \n",
       "2591512              5.850          13:45:22    \n",
       "2591513              5.838          13:46:59    \n",
       "2591514              5.768          13:57:02    \n",
       "2591515              5.768          13:57:02    "
      ]
     },
     "execution_count": 110,
     "metadata": {},
     "output_type": "execute_result"
    }
   ],
   "source": [
    "df3[df3['race_name'] == 'Everglades 50 Mile Ultra Run ']"
   ]
  },
  {
   "cell_type": "code",
   "execution_count": 111,
   "id": "73b8df95-af4c-43db-bf36-cbec23f6eabd",
   "metadata": {
    "editable": true,
    "slideshow": {
     "slide_type": ""
    },
    "tags": []
   },
   "outputs": [],
   "source": [
    "# trovare il numero identificativo dell'atleta 222509"
   ]
  },
  {
   "cell_type": "code",
   "execution_count": 112,
   "id": "0e81a119-560c-4a6b-aa49-5cf8ad07b57a",
   "metadata": {},
   "outputs": [
    {
     "data": {
      "text/html": [
       "<div>\n",
       "<style scoped>\n",
       "    .dataframe tbody tr th:only-of-type {\n",
       "        vertical-align: middle;\n",
       "    }\n",
       "\n",
       "    .dataframe tbody tr th {\n",
       "        vertical-align: top;\n",
       "    }\n",
       "\n",
       "    .dataframe thead th {\n",
       "        text-align: right;\n",
       "    }\n",
       "</style>\n",
       "<table border=\"1\" class=\"dataframe\">\n",
       "  <thead>\n",
       "    <tr style=\"text-align: right;\">\n",
       "      <th></th>\n",
       "      <th>race_name</th>\n",
       "      <th>race_day</th>\n",
       "      <th>year</th>\n",
       "      <th>race_length</th>\n",
       "      <th>race_num_finishers</th>\n",
       "      <th>athlete_id</th>\n",
       "      <th>athlete_gender</th>\n",
       "      <th>athlete_age</th>\n",
       "      <th>athlete_ave_speed</th>\n",
       "      <th>athlete_performance</th>\n",
       "    </tr>\n",
       "  </thead>\n",
       "  <tbody>\n",
       "    <tr>\n",
       "      <th>2591482</th>\n",
       "      <td>Everglades 50 Mile Ultra Run</td>\n",
       "      <td>14.03.2020</td>\n",
       "      <td>2020</td>\n",
       "      <td>50mi</td>\n",
       "      <td>40.0</td>\n",
       "      <td>222509.0</td>\n",
       "      <td>M</td>\n",
       "      <td>23</td>\n",
       "      <td>8.634</td>\n",
       "      <td>9:19:10</td>\n",
       "    </tr>\n",
       "    <tr>\n",
       "      <th>2616900</th>\n",
       "      <td>Manasota Track Club 50K</td>\n",
       "      <td>22.02.2020</td>\n",
       "      <td>2020</td>\n",
       "      <td>50km</td>\n",
       "      <td>36.0</td>\n",
       "      <td>222509.0</td>\n",
       "      <td>M</td>\n",
       "      <td>23</td>\n",
       "      <td>10.371</td>\n",
       "      <td>4:49:16</td>\n",
       "    </tr>\n",
       "  </tbody>\n",
       "</table>\n",
       "</div>"
      ],
      "text/plain": [
       "                             race_name    race_day  year race_length  \\\n",
       "2591482  Everglades 50 Mile Ultra Run   14.03.2020  2020        50mi   \n",
       "2616900       Manasota Track Club 50K   22.02.2020  2020        50km   \n",
       "\n",
       "         race_num_finishers  athlete_id athlete_gender  athlete_age  \\\n",
       "2591482                40.0    222509.0              M           23   \n",
       "2616900                36.0    222509.0              M           23   \n",
       "\n",
       "         athlete_ave_speed athlete_performance  \n",
       "2591482              8.634           9:19:10    \n",
       "2616900             10.371           4:49:16    "
      ]
     },
     "execution_count": 112,
     "metadata": {},
     "output_type": "execute_result"
    }
   ],
   "source": [
    "df3[df3['athlete_id'] == 222509]"
   ]
  },
  {
   "cell_type": "code",
   "execution_count": null,
   "id": "5d7bb679-51fa-4cec-b911-9d635e1c4e32",
   "metadata": {},
   "outputs": [],
   "source": []
  },
  {
   "cell_type": "code",
   "execution_count": 113,
   "id": "7fff0ff7-4c39-4a01-a251-ce839ccd0449",
   "metadata": {},
   "outputs": [],
   "source": [
    "# Charts and Graphs (type in English)"
   ]
  },
  {
   "cell_type": "code",
   "execution_count": null,
   "id": "fb121d46-3790-4362-b3b2-976d41698eca",
   "metadata": {},
   "outputs": [],
   "source": [
    "# show hoe the values are distributed in 'race_length' column (use histogram)"
   ]
  },
  {
   "cell_type": "code",
   "execution_count": 116,
   "id": "dd51475b-241b-4e08-890a-3b28e82b2479",
   "metadata": {
    "collapsed": true,
    "editable": true,
    "jupyter": {
     "outputs_hidden": true
    },
    "scrolled": true,
    "slideshow": {
     "slide_type": ""
    },
    "tags": []
   },
   "outputs": [
    {
     "data": {
      "text/plain": [
       "<Axes: xlabel='race_length', ylabel='Count'>"
      ]
     },
     "execution_count": 116,
     "metadata": {},
     "output_type": "execute_result"
    },
    {
     "data": {
      "image/png": "[encoded data removed]",
      "text/plain": [
       "<Figure size 640x480 with 1 Axes>"
      ]
     },
     "metadata": {},
     "output_type": "display_data"
    }
   ],
   "source": [
    "sns.histplot(df3['race_length'])"
   ]
  },
  {
   "cell_type": "code",
   "execution_count": 117,
   "id": "e6ea5963-6041-4854-aa23-defdf3f3d3ab",
   "metadata": {
    "editable": true,
    "slideshow": {
     "slide_type": ""
    },
    "tags": []
   },
   "outputs": [],
   "source": [
    "# now add 'athlete_gender' column to group histogram data by both genders"
   ]
  },
  {
   "cell_type": "code",
   "execution_count": 119,
   "id": "e0201abf-2a17-4a7e-9061-292b9fc25c44",
   "metadata": {
    "collapsed": true,
    "jupyter": {
     "outputs_hidden": true
    },
    "scrolled": true
   },
   "outputs": [
    {
     "data": {
      "text/plain": [
       "<Axes: xlabel='race_length', ylabel='Count'>"
      ]
     },
     "execution_count": 119,
     "metadata": {},
     "output_type": "execute_result"
    },
    {
     "data": {
      "image/png": "[encoded data removed]",
      "text/plain": [
       "<Figure size 640x480 with 1 Axes>"
      ]
     },
     "metadata": {},
     "output_type": "display_data"
    }
   ],
   "source": [
    "sns.histplot(df3, x = 'race_length', hue = 'athlete_gender') "
   ]
  },
  {
   "cell_type": "code",
   "execution_count": 120,
   "id": "9393c29c-9870-4fcd-aa08-e9b4e0429a38",
   "metadata": {
    "editable": true,
    "slideshow": {
     "slide_type": ""
    },
    "tags": []
   },
   "outputs": [],
   "source": [
    "# show the average speed of athletes for 50 miles race length"
   ]
  },
  {
   "cell_type": "code",
   "execution_count": 123,
   "id": "d181af1c-b95c-432e-ac2f-1659791ad352",
   "metadata": {
    "editable": true,
    "slideshow": {
     "slide_type": ""
    },
    "tags": []
   },
   "outputs": [
    {
     "data": {
      "text/plain": [
       "<seaborn.axisgrid.FacetGrid at 0x225df293250>"
      ]
     },
     "execution_count": 123,
     "metadata": {},
     "output_type": "execute_result"
    },
    {
     "data": {
      "image/png": "[encoded data removed]",
      "text/plain": [
       "<Figure size 500x500 with 1 Axes>"
      ]
     },
     "metadata": {},
     "output_type": "display_data"
    }
   ],
   "source": [
    "sns.displot(df3[df3['race_length'] == '50mi']['athlete_ave_speed'])"
   ]
  },
  {
   "cell_type": "code",
   "execution_count": 124,
   "id": "ae00528c-f03a-4b16-896e-742f32163d74",
   "metadata": {
    "editable": true,
    "slideshow": {
     "slide_type": ""
    },
    "tags": []
   },
   "outputs": [],
   "source": [
    "# show the distribution of average speed of athletes over race lengths of 50km and 50miles and grouping by both gender"
   ]
  },
  {
   "cell_type": "code",
   "execution_count": 133,
   "id": "18cd056d-8bbb-49da-8b91-aab972cd0a85",
   "metadata": {
    "editable": true,
    "slideshow": {
     "slide_type": ""
    },
    "tags": []
   },
   "outputs": [
    {
     "data": {
      "text/plain": [
       "<Axes: xlabel='athlete_ave_speed', ylabel='race_length'>"
      ]
     },
     "execution_count": 133,
     "metadata": {},
     "output_type": "execute_result"
    },
    {
     "data": {
      "image/png": "[encoded data removed]",
      "text/plain": [
       "<Figure size 640x480 with 1 Axes>"
      ]
     },
     "metadata": {},
     "output_type": "display_data"
    }
   ],
   "source": [
    "sns.violinplot(data = df3, x = 'athlete_ave_speed', y = 'race_length', hue = 'athlete_gender')"
   ]
  },
  {
   "cell_type": "code",
   "execution_count": 136,
   "id": "5af7d6ce-5508-4839-9706-c03da2a3f89f",
   "metadata": {
    "editable": true,
    "slideshow": {
     "slide_type": ""
    },
    "tags": []
   },
   "outputs": [],
   "source": [
    "# we can demonstrate the data above in linear relationship as well (but here labels x and y should be float or int, that's why for y axis we can use athlete_age)"
   ]
  },
  {
   "cell_type": "code",
   "execution_count": 137,
   "id": "c80639d5-03a5-466a-bb54-3fe6b119e83f",
   "metadata": {},
   "outputs": [
    {
     "data": {
      "text/plain": [
       "<seaborn.axisgrid.FacetGrid at 0x225b2e3f890>"
      ]
     },
     "execution_count": 137,
     "metadata": {},
     "output_type": "execute_result"
    },
    {
     "data": {
      "image/png": "[encoded data removed]",
      "text/plain": [
       "<Figure size 616.611x500 with 1 Axes>"
      ]
     },
     "metadata": {},
     "output_type": "display_data"
    }
   ],
   "source": [
    "sns.lmplot(data = df3, x = 'athlete_ave_speed', y = 'athlete_age', hue = 'athlete_gender')"
   ]
  },
  {
   "cell_type": "code",
   "execution_count": 138,
   "id": "c162455f-b16a-4a4e-b660-3e407a8ff0a7",
   "metadata": {
    "editable": true,
    "slideshow": {
     "slide_type": ""
    },
    "tags": []
   },
   "outputs": [],
   "source": [
    "# as final stage, there are some problems we need to find solutions "
   ]
  },
  {
   "cell_type": "code",
   "execution_count": 141,
   "id": "52648bf1-8c95-48f3-b66d-ac0244dc27fa",
   "metadata": {
    "editable": true,
    "slideshow": {
     "slide_type": ""
    },
    "tags": []
   },
   "outputs": [],
   "source": [
    "# 1. Difference for the average speed of athletes for the 50km and 50 miles for both gender"
   ]
  },
  {
   "cell_type": "code",
   "execution_count": 149,
   "id": "f5c8c412-6cae-4764-9e6f-1628a458c35d",
   "metadata": {
    "editable": true,
    "slideshow": {
     "slide_type": ""
    },
    "tags": []
   },
   "outputs": [
    {
     "data": {
      "text/plain": [
       "race_length  athlete_gender\n",
       "50km         F                 7.083011\n",
       "             M                 7.738985\n",
       "50mi         F                 6.834371\n",
       "             M                 7.257633\n",
       "Name: athlete_ave_speed, dtype: float64"
      ]
     },
     "execution_count": 149,
     "metadata": {},
     "output_type": "execute_result"
    }
   ],
   "source": [
    "df3.groupby(['race_length', 'athlete_gender'])['athlete_ave_speed'].mean()"
   ]
  },
  {
   "cell_type": "code",
   "execution_count": 165,
   "id": "b2ae399a-da4b-4bae-b7fd-989b440fc2e1",
   "metadata": {
    "editable": true,
    "slideshow": {
     "slide_type": ""
    },
    "tags": []
   },
   "outputs": [],
   "source": [
    "# 2. TOP 10 best age groups on the 50 miles race"
   ]
  },
  {
   "cell_type": "code",
   "execution_count": 163,
   "id": "3dce9ae6-6856-4b39-bfbd-94aa4aaaf53d",
   "metadata": {
    "editable": true,
    "slideshow": {
     "slide_type": ""
    },
    "tags": []
   },
   "outputs": [
    {
     "data": {
      "text/html": [
       "<div>\n",
       "<style scoped>\n",
       "    .dataframe tbody tr th:only-of-type {\n",
       "        vertical-align: middle;\n",
       "    }\n",
       "\n",
       "    .dataframe tbody tr th {\n",
       "        vertical-align: top;\n",
       "    }\n",
       "\n",
       "    .dataframe thead th {\n",
       "        text-align: right;\n",
       "    }\n",
       "</style>\n",
       "<table border=\"1\" class=\"dataframe\">\n",
       "  <thead>\n",
       "    <tr style=\"text-align: right;\">\n",
       "      <th></th>\n",
       "      <th>mean</th>\n",
       "      <th>count</th>\n",
       "    </tr>\n",
       "    <tr>\n",
       "      <th>athlete_age</th>\n",
       "      <th></th>\n",
       "      <th></th>\n",
       "    </tr>\n",
       "  </thead>\n",
       "  <tbody>\n",
       "    <tr>\n",
       "      <th>29</th>\n",
       "      <td>7.902252</td>\n",
       "      <td>135</td>\n",
       "    </tr>\n",
       "    <tr>\n",
       "      <th>23</th>\n",
       "      <td>7.779800</td>\n",
       "      <td>55</td>\n",
       "    </tr>\n",
       "    <tr>\n",
       "      <th>28</th>\n",
       "      <td>7.575252</td>\n",
       "      <td>107</td>\n",
       "    </tr>\n",
       "    <tr>\n",
       "      <th>30</th>\n",
       "      <td>7.569204</td>\n",
       "      <td>157</td>\n",
       "    </tr>\n",
       "    <tr>\n",
       "      <th>25</th>\n",
       "      <td>7.540923</td>\n",
       "      <td>91</td>\n",
       "    </tr>\n",
       "    <tr>\n",
       "      <th>31</th>\n",
       "      <td>7.451638</td>\n",
       "      <td>138</td>\n",
       "    </tr>\n",
       "    <tr>\n",
       "      <th>38</th>\n",
       "      <td>7.430022</td>\n",
       "      <td>231</td>\n",
       "    </tr>\n",
       "    <tr>\n",
       "      <th>35</th>\n",
       "      <td>7.422359</td>\n",
       "      <td>195</td>\n",
       "    </tr>\n",
       "    <tr>\n",
       "      <th>36</th>\n",
       "      <td>7.403854</td>\n",
       "      <td>185</td>\n",
       "    </tr>\n",
       "    <tr>\n",
       "      <th>26</th>\n",
       "      <td>7.379800</td>\n",
       "      <td>75</td>\n",
       "    </tr>\n",
       "  </tbody>\n",
       "</table>\n",
       "</div>"
      ],
      "text/plain": [
       "                 mean  count\n",
       "athlete_age                 \n",
       "29           7.902252    135\n",
       "23           7.779800     55\n",
       "28           7.575252    107\n",
       "30           7.569204    157\n",
       "25           7.540923     91\n",
       "31           7.451638    138\n",
       "38           7.430022    231\n",
       "35           7.422359    195\n",
       "36           7.403854    185\n",
       "26           7.379800     75"
      ]
     },
     "execution_count": 163,
     "metadata": {},
     "output_type": "execute_result"
    }
   ],
   "source": [
    "df3.query('race_length == \"50mi\"').groupby('athlete_age')['athlete_ave_speed'].agg(['mean','count']).sort_values('mean', ascending = False).query('count>19').head(10)"
   ]
  },
  {
   "cell_type": "code",
   "execution_count": 167,
   "id": "8a2c0144-b6bb-45bf-a69f-c624cf252767",
   "metadata": {
    "editable": true,
    "slideshow": {
     "slide_type": ""
    },
    "tags": []
   },
   "outputs": [],
   "source": [
    "# 3. Top 5 Worst age groups on 50 miles race"
   ]
  },
  {
   "cell_type": "code",
   "execution_count": 164,
   "id": "6021c96d-6c97-45b2-ba6a-e7516e369ec7",
   "metadata": {
    "editable": true,
    "slideshow": {
     "slide_type": ""
    },
    "tags": []
   },
   "outputs": [
    {
     "data": {
      "text/html": [
       "<div>\n",
       "<style scoped>\n",
       "    .dataframe tbody tr th:only-of-type {\n",
       "        vertical-align: middle;\n",
       "    }\n",
       "\n",
       "    .dataframe tbody tr th {\n",
       "        vertical-align: top;\n",
       "    }\n",
       "\n",
       "    .dataframe thead th {\n",
       "        text-align: right;\n",
       "    }\n",
       "</style>\n",
       "<table border=\"1\" class=\"dataframe\">\n",
       "  <thead>\n",
       "    <tr style=\"text-align: right;\">\n",
       "      <th></th>\n",
       "      <th>mean</th>\n",
       "      <th>count</th>\n",
       "    </tr>\n",
       "    <tr>\n",
       "      <th>athlete_age</th>\n",
       "      <th></th>\n",
       "      <th></th>\n",
       "    </tr>\n",
       "  </thead>\n",
       "  <tbody>\n",
       "    <tr>\n",
       "      <th>60</th>\n",
       "      <td>6.261788</td>\n",
       "      <td>33</td>\n",
       "    </tr>\n",
       "    <tr>\n",
       "      <th>62</th>\n",
       "      <td>6.272730</td>\n",
       "      <td>37</td>\n",
       "    </tr>\n",
       "    <tr>\n",
       "      <th>61</th>\n",
       "      <td>6.358355</td>\n",
       "      <td>31</td>\n",
       "    </tr>\n",
       "    <tr>\n",
       "      <th>63</th>\n",
       "      <td>6.514806</td>\n",
       "      <td>31</td>\n",
       "    </tr>\n",
       "    <tr>\n",
       "      <th>58</th>\n",
       "      <td>6.582328</td>\n",
       "      <td>67</td>\n",
       "    </tr>\n",
       "  </tbody>\n",
       "</table>\n",
       "</div>"
      ],
      "text/plain": [
       "                 mean  count\n",
       "athlete_age                 \n",
       "60           6.261788     33\n",
       "62           6.272730     37\n",
       "61           6.358355     31\n",
       "63           6.514806     31\n",
       "58           6.582328     67"
      ]
     },
     "execution_count": 164,
     "metadata": {},
     "output_type": "execute_result"
    }
   ],
   "source": [
    "df3.query('race_length == \"50mi\"').groupby('athlete_age')['athlete_ave_speed'].agg(['mean', 'count']).sort_values('mean', ascending = True).query('count>19').head(5)"
   ]
  },
  {
   "cell_type": "code",
   "execution_count": 168,
   "id": "dc7a817f-1317-4cb4-8ce7-7305547d49c5",
   "metadata": {
    "editable": true,
    "slideshow": {
     "slide_type": ""
    },
    "tags": []
   },
   "outputs": [],
   "source": [
    "# 3. Are athletes are slower in summer rather than winter?"
   ]
  },
  {
   "cell_type": "code",
   "execution_count": 169,
   "id": "f719e77c-1619-4b73-8226-7886b1f63ee4",
   "metadata": {
    "editable": true,
    "slideshow": {
     "slide_type": ""
    },
    "tags": []
   },
   "outputs": [],
   "source": [
    "# Spring 3 - 5\n",
    "# Summer 6 - 8\n",
    "# Autumn 9 - 11\n",
    "# Winter 12 - 2          "
   ]
  },
  {
   "cell_type": "code",
   "execution_count": 172,
   "id": "c1338f82-53ab-48d1-853f-b1b4f1d12cf7",
   "metadata": {
    "editable": true,
    "slideshow": {
     "slide_type": ""
    },
    "tags": []
   },
   "outputs": [
    {
     "name": "stderr",
     "output_type": "stream",
     "text": [
      "C:\\Users\\seraf\\AppData\\Local\\Temp\\ipykernel_24788\\1584466166.py:1: SettingWithCopyWarning: \n",
      "A value is trying to be set on a copy of a slice from a DataFrame.\n",
      "Try using .loc[row_indexer,col_indexer] = value instead\n",
      "\n",
      "See the caveats in the documentation: https://pandas.pydata.org/pandas-docs/stable/user_guide/indexing.html#returning-a-view-versus-a-copy\n",
      "  df3['race_month'] = df3['race_day'].str.split('.').str.get(1).astype(int) # it will add one more column to the end\n"
     ]
    }
   ],
   "source": [
    "df3['race_month'] = df3['race_day'].str.split('.').str.get(1).astype(int) # it will add one more column to the end"
   ]
  },
  {
   "cell_type": "code",
   "execution_count": 177,
   "id": "a18e4c49-6315-49ac-a9ee-3496d473d42a",
   "metadata": {},
   "outputs": [],
   "source": [
    "# Create the race season column"
   ]
  },
  {
   "cell_type": "code",
   "execution_count": 173,
   "id": "71156624-470f-4e2b-a35e-26c554511235",
   "metadata": {
    "editable": true,
    "scrolled": true,
    "slideshow": {
     "slide_type": ""
    },
    "tags": []
   },
   "outputs": [
    {
     "name": "stderr",
     "output_type": "stream",
     "text": [
      "C:\\Users\\seraf\\AppData\\Local\\Temp\\ipykernel_24788\\1546707787.py:1: SettingWithCopyWarning: \n",
      "A value is trying to be set on a copy of a slice from a DataFrame.\n",
      "Try using .loc[row_indexer,col_indexer] = value instead\n",
      "\n",
      "See the caveats in the documentation: https://pandas.pydata.org/pandas-docs/stable/user_guide/indexing.html#returning-a-view-versus-a-copy\n",
      "  df3['race_season'] = df3['race_month'].apply(lambda x: 'Winter' if x > 11 else 'Autumn' if x > 8 else 'Summer' if x > 5 else 'Spring' if x > 2 else 'Winter')\n"
     ]
    }
   ],
   "source": [
    "df3['race_season'] = df3['race_month'].apply(lambda x: 'Winter' if x > 11 else 'Autumn' if x > 8 else 'Summer' if x > 5 else 'Spring' if x > 2 else 'Winter')"
   ]
  },
  {
   "cell_type": "code",
   "execution_count": 175,
   "id": "d96b65d0-60d5-49c3-85e8-e4eb2a60da96",
   "metadata": {
    "editable": true,
    "slideshow": {
     "slide_type": ""
    },
    "tags": []
   },
   "outputs": [],
   "source": [
    "# Group athlete average speed by race season"
   ]
  },
  {
   "cell_type": "code",
   "execution_count": 176,
   "id": "97d04ab9-7ff1-4c1d-904c-507eccae4549",
   "metadata": {
    "editable": true,
    "slideshow": {
     "slide_type": ""
    },
    "tags": []
   },
   "outputs": [
    {
     "data": {
      "text/html": [
       "<div>\n",
       "<style scoped>\n",
       "    .dataframe tbody tr th:only-of-type {\n",
       "        vertical-align: middle;\n",
       "    }\n",
       "\n",
       "    .dataframe tbody tr th {\n",
       "        vertical-align: top;\n",
       "    }\n",
       "\n",
       "    .dataframe thead th {\n",
       "        text-align: right;\n",
       "    }\n",
       "</style>\n",
       "<table border=\"1\" class=\"dataframe\">\n",
       "  <thead>\n",
       "    <tr style=\"text-align: right;\">\n",
       "      <th></th>\n",
       "      <th>mean</th>\n",
       "      <th>count</th>\n",
       "    </tr>\n",
       "    <tr>\n",
       "      <th>race_season</th>\n",
       "      <th></th>\n",
       "      <th></th>\n",
       "    </tr>\n",
       "  </thead>\n",
       "  <tbody>\n",
       "    <tr>\n",
       "      <th>Spring</th>\n",
       "      <td>7.684430</td>\n",
       "      <td>3294</td>\n",
       "    </tr>\n",
       "    <tr>\n",
       "      <th>Winter</th>\n",
       "      <td>7.518187</td>\n",
       "      <td>11595</td>\n",
       "    </tr>\n",
       "    <tr>\n",
       "      <th>Autumn</th>\n",
       "      <td>7.406619</td>\n",
       "      <td>8315</td>\n",
       "    </tr>\n",
       "    <tr>\n",
       "      <th>Summer</th>\n",
       "      <td>6.869336</td>\n",
       "      <td>2653</td>\n",
       "    </tr>\n",
       "  </tbody>\n",
       "</table>\n",
       "</div>"
      ],
      "text/plain": [
       "                 mean  count\n",
       "race_season                 \n",
       "Spring       7.684430   3294\n",
       "Winter       7.518187  11595\n",
       "Autumn       7.406619   8315\n",
       "Summer       6.869336   2653"
      ]
     },
     "execution_count": 176,
     "metadata": {},
     "output_type": "execute_result"
    }
   ],
   "source": [
    "df3.groupby('race_season')['athlete_ave_speed'].agg(['mean', 'count']).sort_values('mean', ascending = False)"
   ]
  },
  {
   "cell_type": "code",
   "execution_count": 181,
   "id": "d3c1cf0b-506f-4438-a6da-0481964e2c8b",
   "metadata": {
    "scrolled": true
   },
   "outputs": [
    {
     "data": {
      "text/plain": [
       "<Axes: xlabel='race_season', ylabel='athlete_ave_speed'>"
      ]
     },
     "execution_count": 181,
     "metadata": {},
     "output_type": "execute_result"
    },
    {
     "data": {
      "image/png": "[encoded data removed]",
      "text/plain": [
       "<Figure size 640x480 with 1 Axes>"
      ]
     },
     "metadata": {},
     "output_type": "display_data"
    }
   ],
   "source": [
    "sns.histplot(df3, x = 'race_season', y ='athlete_ave_speed')v"
   ]
  }
 ],
 "metadata": {
  "kernelspec": {
   "display_name": "Python 3 (ipykernel)",
   "language": "python",
   "name": "python3"
  },
  "language_info": {
   "codemirror_mode": {
    "name": "ipython",
    "version": 3
   },
   "file_extension": ".py",
   "mimetype": "text/x-python",
   "name": "python",
   "nbconvert_exporter": "python",
   "pygments_lexer": "ipython3",
   "version": "3.13.0"
  }
 },
 "nbformat": 4,
 "nbformat_minor": 5
}
